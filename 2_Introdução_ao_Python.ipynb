{
  "nbformat": 4,
  "nbformat_minor": 0,
  "metadata": {
    "kernelspec": {
      "display_name": "Python 3",
      "language": "python",
      "name": "python3"
    },
    "language_info": {
      "codemirror_mode": {
        "name": "ipython",
        "version": 3
      },
      "file_extension": ".py",
      "mimetype": "text/x-python",
      "name": "python",
      "nbconvert_exporter": "python",
      "pygments_lexer": "ipython3",
      "version": "3.7.3"
    },
    "colab": {
      "provenance": [],
      "include_colab_link": true
    }
  },
  "cells": [
    {
      "cell_type": "markdown",
      "metadata": {
        "id": "view-in-github",
        "colab_type": "text"
      },
      "source": [
        "<a href=\"https://colab.research.google.com/github/guilhermebalbinot/-Torre-de-Honnoi/blob/master/2_Introdu%C3%A7%C3%A3o_ao_Python.ipynb\" target=\"_parent\"><img src=\"https://colab.research.google.com/assets/colab-badge.svg\" alt=\"Open In Colab\"/></a>"
      ]
    },
    {
      "cell_type": "markdown",
      "metadata": {
        "id": "IIptaBZvPFdp"
      },
      "source": [
        "# Introdução à Linguagem Python"
      ]
    },
    {
      "cell_type": "markdown",
      "metadata": {
        "id": "XmT4P_DvPFds"
      },
      "source": [
        "Neste material iremos discutir os primeiros passos na linguagem de programação  Python. \n"
      ]
    },
    {
      "cell_type": "markdown",
      "metadata": {
        "id": "WYnSM8yLPFdx"
      },
      "source": [
        "##Primeiro programa\n"
      ]
    },
    {
      "cell_type": "markdown",
      "metadata": {
        "id": "hNAx8gK2LSQH"
      },
      "source": [
        "\n",
        "Tradicionalmente, o primeiro programa escrito em uma nova linguagem é chamado de \"Olá, mundo!\". Exemplo:"
      ]
    },
    {
      "cell_type": "code",
      "metadata": {
        "id": "iwaM96mdPFd0",
        "outputId": "52bfa75b-6341-4055-83cd-132c5b3b971c",
        "colab": {
          "base_uri": "https://localhost:8080/"
        }
      },
      "source": [
        "print(\"Olá, mundo!\")"
      ],
      "execution_count": null,
      "outputs": [
        {
          "output_type": "stream",
          "name": "stdout",
          "text": [
            "Olá, mundo!\n"
          ]
        }
      ]
    },
    {
      "cell_type": "markdown",
      "metadata": {
        "id": "65S8OzycXUZw"
      },
      "source": [
        "O ``print`` é um comando de saída, ou seja, serve para colocar um conteúdo na saída padrão (tela) no momento em que o programa está em execução.\n",
        "\n",
        "A mensagem a ser impressa deve estar entre aspas (simples ou duplas, desde que sejam ambas iguais).\n",
        "\n",
        "O que há de errado com os códigos a seguir?"
      ]
    },
    {
      "cell_type": "code",
      "metadata": {
        "id": "onOAGyPrXY65"
      },
      "source": [
        "print(Meu primeiro programa)"
      ],
      "execution_count": null,
      "outputs": []
    },
    {
      "cell_type": "code",
      "metadata": {
        "id": "ezEFIe3nXsCu"
      },
      "source": [
        "print(\"Meu primeiro programa)"
      ],
      "execution_count": null,
      "outputs": []
    },
    {
      "cell_type": "code",
      "metadata": {
        "id": "2moARPNv7jxy"
      },
      "source": [
        "print(\"Meu primeiro programa')"
      ],
      "execution_count": null,
      "outputs": []
    },
    {
      "cell_type": "markdown",
      "metadata": {
        "id": "SuM4bueShXVt"
      },
      "source": [
        "Podemos usar caracteres especiais para imprimir um texto seguindo um determinado formato. \n",
        "\n",
        "No exemplo abaixo, cada ``\\n`` força uma quebra de linha."
      ]
    },
    {
      "cell_type": "code",
      "metadata": {
        "id": "YbVH5ofOXuoH"
      },
      "source": [
        "print(\"Primeira linha.\\nSegunda linha.\\n\\n\\nTerceira linha\") "
      ],
      "execution_count": null,
      "outputs": []
    },
    {
      "cell_type": "markdown",
      "metadata": {
        "id": "RfmAqJ5d-6pb"
      },
      "source": [
        "###Atividade 1: Imprima o texto abaixo seguindo o formato.\n",
        "\n",
        "Computadores quebram, \n",
        "\n",
        "pessoas morrem e relacionamentos acabam. O melhor que nós \n",
        "\n",
        "podemos fazer é respirar e reiniciar.\n",
        "\n"
      ]
    },
    {
      "cell_type": "code",
      "metadata": {
        "id": "7OADA4AvLANt"
      },
      "source": [],
      "execution_count": null,
      "outputs": []
    },
    {
      "cell_type": "markdown",
      "metadata": {
        "id": "bftcT3I1XGQx"
      },
      "source": [
        "##Variáveis\n",
        "\n",
        "\n",
        "\n"
      ]
    },
    {
      "cell_type": "markdown",
      "metadata": {
        "id": "FBqPIrQ_LNtQ"
      },
      "source": [
        "\n",
        "Variáveis são lugares na memória principal (RAM) do computador onde são armazenadas as informações temporárias de cada programa. \n",
        "\n",
        "\n",
        "<div>\n",
        "<img src=\"https://drive.google.com/uc?id=11KAoyWVx39JU95OodvJ9huV4Gt5Z0nFV\" alt=\"Drawing\"  width=\"400\"/>\n",
        "</div>\n",
        "\n",
        "Uma variável possui um nome (identificador) e é associada a um tipo de dado."
      ]
    },
    {
      "cell_type": "code",
      "metadata": {
        "id": "GbKqEn_kPFeD"
      },
      "source": [
        "Mensagem = \"Hello Python world!\"\n",
        "print(Mensagem)"
      ],
      "execution_count": null,
      "outputs": []
    },
    {
      "cell_type": "code",
      "metadata": {
        "id": "o3sN7GcBJsgv"
      },
      "source": [
        "A = 1\n",
        "B = 5\n",
        "print(A)\n",
        "print(B)"
      ],
      "execution_count": null,
      "outputs": []
    },
    {
      "cell_type": "markdown",
      "metadata": {
        "id": "jqcLOlYkqgML"
      },
      "source": [
        "Regras para definição de nomes (identificadores) de variáveis:\n",
        "\n",
        "\n",
        "1.   Um identificador de variável deve começar com letras ou com o símbolo underscore (_);\n",
        "2.   Não é permitido começar com números ou caracteres especiais ( *, - &, entre outros);\n",
        "3.   Uma variável não pode conter espaços; \n",
        "4.   Caixa alta e baixa são reconhecidos como caracteres diferentes;\n",
        "5.   O ideal é que o identificador de uma variável seja nome significativo dentro do contexto do problema.\n"
      ]
    },
    {
      "cell_type": "code",
      "metadata": {
        "id": "aTS2PpSEqYZ0"
      },
      "source": [
        "_var = 1\n",
        "Var = 2\n",
        "x = 3\n",
        "vTotal = _var + Var + x\n",
        "print(vTotal)"
      ],
      "execution_count": null,
      "outputs": []
    },
    {
      "cell_type": "markdown",
      "metadata": {
        "id": "Zma9GsNVAzik"
      },
      "source": [
        "Uma ``variável`` assim se denomina porque seu conteúdo ou valor pode variar durante a execução do programa. \n",
        "\n",
        "Variáveis podem receber valores fixos (atribuídos no código-fonte) bem como valores provenientes de entradas do usuário (inputs) ou resultados de outras operações e cálculos.\n",
        "\n",
        "O sinal de igual ``=`` é chamado de **operador de atribuição** e serve para atribuir um novo valor a uma variável. Lê-se como \"**recebe**\".\n",
        "\n",
        "```variavel = valor ou expressão```\n",
        "\n",
        "Note que, embora possa assumir diferentes valores no decorrer de um programa, uma variável somente pode armazenar um único valor a cada instante. Isto é, ao receber um novo valor, o valor anterior é sobrescrito (portanto, perdido)."
      ]
    },
    {
      "cell_type": "code",
      "metadata": {
        "id": "CujPhVCdZ0qk"
      },
      "source": [
        "a = 2\n",
        "print(a)\n",
        "a = 3  # valor 2 se perdeu\n",
        "print(a)"
      ],
      "execution_count": null,
      "outputs": []
    },
    {
      "cell_type": "markdown",
      "metadata": {
        "id": "8ypfT1IfPFeN"
      },
      "source": [
        "### Atividade 2\n",
        "\n",
        "Corrija as variáveis a seguir:"
      ]
    },
    {
      "cell_type": "code",
      "metadata": {
        "id": "GgmwbwqnPFeO"
      },
      "source": [
        "mensagem = \"Olá mundo!\"\n",
        "print(mensagemmm)"
      ],
      "execution_count": null,
      "outputs": []
    },
    {
      "cell_type": "code",
      "metadata": {
        "id": "2D2Wh-9jtONa"
      },
      "source": [
        "Idade = 30\n",
        "print(\"A minha idade é:\", idade)"
      ],
      "execution_count": null,
      "outputs": []
    },
    {
      "cell_type": "code",
      "metadata": {
        "id": "LB_yTF4ztSrX"
      },
      "source": [
        "numFilhos = 2\n",
        "numFilhos = \"Maria da Silva\"\n",
        "print(numFilhos)\n",
        "print(numFilhos)"
      ],
      "execution_count": null,
      "outputs": []
    },
    {
      "cell_type": "markdown",
      "metadata": {
        "id": "XDQIgwan42yS"
      },
      "source": [
        "###Comentários\n",
        "\n",
        "É possível (e em muitos casos, recomendável) que se\n",
        "adicione comentários ao algoritmo/programa para facilitar sua\n",
        "compreensão e manutenção futura. Os comentários serão\n",
        "totalmente ignorados pelo compilador/interpretador da\n",
        "linguagem.\n",
        "\n",
        "Em Python, os comentários são especificados após o caractere #:"
      ]
    },
    {
      "cell_type": "code",
      "metadata": {
        "id": "DpAEnPCl5Ccv"
      },
      "source": [
        "# toda esta linha será ignorada\n",
        "x = 0\n",
        "x = x + 1 # assim como o restante desta linha\n",
        "print(x)"
      ],
      "execution_count": null,
      "outputs": []
    },
    {
      "cell_type": "markdown",
      "metadata": {
        "id": "lHUeTp9m5Y4Q"
      },
      "source": [
        "Também é possível utilizar comentários de múltiplas linhas delimitando seu início/fim por três aspas (simples ou duplas)."
      ]
    },
    {
      "cell_type": "code",
      "metadata": {
        "id": "C67iLDZz5kc5"
      },
      "source": [
        "print(\"uma linha do programa\")\n",
        "'''um comentário\n",
        "de várias linhas,\n",
        "sendo que todas serão \n",
        "ignoradas pelo interpretador'''\n",
        "print(\"continuação do programa\")"
      ],
      "execution_count": null,
      "outputs": []
    },
    {
      "cell_type": "markdown",
      "metadata": {
        "id": "UIBU-CbaI831"
      },
      "source": [
        "##Como imprimimos textos e variáveis?\n",
        "\n",
        "\n"
      ]
    },
    {
      "cell_type": "markdown",
      "metadata": {
        "id": "IjIdkx5SSkvP"
      },
      "source": [
        "Separando a(s) variável(is) do texto fixo por meio de vírgulas:"
      ]
    },
    {
      "cell_type": "code",
      "metadata": {
        "id": "LAViPffcJCT7"
      },
      "source": [
        "a = 10\n",
        "print(\"O valor da variável a é\", a, \"e outra informação pode ser impressa em seguida\")"
      ],
      "execution_count": null,
      "outputs": []
    },
    {
      "cell_type": "code",
      "metadata": {
        "id": "PhA4O6mHJP3g"
      },
      "source": [
        "a = 10\n",
        "b = 20\n",
        "print(\"O valor de a é\",a,\", já o valor de b é\", b)"
      ],
      "execution_count": null,
      "outputs": []
    },
    {
      "cell_type": "markdown",
      "metadata": {
        "id": "Nf73EMSrSt9Z"
      },
      "source": [
        "Ou utilizando o ``f`` no início da mensagem. Neste caso, as variáveis permanecem dentro das aspas, mas delimitadas por chaves:"
      ]
    },
    {
      "cell_type": "code",
      "metadata": {
        "id": "2uBObmYdJH2h"
      },
      "source": [
        "print(f\"O valor da variável a é {a} e outra informação pode ser impressa em seguida\")"
      ],
      "execution_count": null,
      "outputs": []
    },
    {
      "cell_type": "code",
      "metadata": {
        "id": "Cp2tcQjBJXHo"
      },
      "source": [
        "print(f\"O valor de a é {a}, já o valor de b é {b}\")"
      ],
      "execution_count": null,
      "outputs": []
    },
    {
      "cell_type": "markdown",
      "metadata": {
        "id": "0pjONPGdTLtV"
      },
      "source": [
        "Limitando o número de casas decimais na exibição de valores float:"
      ]
    },
    {
      "cell_type": "code",
      "metadata": {
        "id": "JULK3tn3SFu_"
      },
      "source": [
        "valor = 5.6666666\n",
        "print(f\"O valor é {valor:.2f}\")\n",
        "print(valor)"
      ],
      "execution_count": null,
      "outputs": []
    },
    {
      "cell_type": "markdown",
      "metadata": {
        "id": "MjrSGXbdP2Nm"
      },
      "source": [
        "###Atividade  3\n",
        "**3.1** - Crie variáveis para armazenar seu nome, cpf e endereço.\n",
        "\n",
        "Em seguida, imprima os 3 valores valores de acordo com o exemplo de formato abaixo:\n",
        "\n",
        "Dados do aluno:\n",
        "\n",
        "CPF: 1233232\n",
        "\n",
        "Nome: Joao da Silva\n",
        "\n",
        "Endereço: Rua 123454\n"
      ]
    },
    {
      "cell_type": "code",
      "metadata": {
        "id": "h2Hkt3DSrPwn"
      },
      "source": [],
      "execution_count": null,
      "outputs": []
    },
    {
      "cell_type": "markdown",
      "metadata": {
        "id": "45DBSs65rQAt"
      },
      "source": [
        "**3.2** - Imprima o nome e a nota dos alunos abaixo, seguindo o formato:\n",
        "\n",
        "ColegaVirtual1: Joao\n",
        "\n",
        "Nota: 5.0\n",
        "\n",
        "ColegaVirtual2: Maria\n",
        "\n",
        "Nota: 4.0\n",
        "\n"
      ]
    },
    {
      "cell_type": "code",
      "metadata": {
        "id": "yTgblpKhSDAj"
      },
      "source": [],
      "execution_count": null,
      "outputs": []
    },
    {
      "cell_type": "markdown",
      "metadata": {
        "id": "x9EdxE7jSr_2"
      },
      "source": [
        "##Tipos de Dados\n",
        "---\n",
        "Os valores que podem ser armazenados na memória são\n",
        "classificados em tipos.\n"
      ]
    },
    {
      "cell_type": "code",
      "metadata": {
        "id": "v8UupgBhTCr-"
      },
      "source": [
        "print(\"O resultado de 4 * 2 é =\", 4 * 2)  # impressão de uma string (texto) seguida de um valor int"
      ],
      "execution_count": null,
      "outputs": []
    },
    {
      "cell_type": "markdown",
      "metadata": {
        "id": "j2OxDxi6DNmO"
      },
      "source": [
        "Cada linguagem de programação possui tipos básicos pré-definidos e\n",
        "com nomenclaturas próprias. \n",
        "\n",
        "Os tipos básicos de dados do Python são:\n",
        "\n",
        "*  Números inteiros (int): -14, -2, 0, 1, 100, 401233\n",
        " \n",
        "*  Números de ponto flutuante (float): -2.5 , 0.0, 98.6, 14.0\n",
        "\n",
        "*  Texto (String): \"1.5\"\n",
        "\n",
        "*  Booleanos: verdadeiro (True) ou falso (False)\n",
        "\n",
        "A linguagem Python é dinamicamente tipada, ou seja, não é necessário declarar explicitamente o tipo de dado associado a uma variável, como ocorre em outras linguagens como C e Java. \n",
        "\n",
        "O interpretador do Python se encarrega de identificar automaticamente o tipo de valor que estamos atribuindo a uma variável.\n",
        "\n",
        "Para saber o tipo de dados de um valor ou variável, podemos perguntar ao Python através do comando type:"
      ]
    },
    {
      "cell_type": "code",
      "metadata": {
        "id": "VaUJ3YmN_E2G"
      },
      "source": [
        "print(\"4 * 2\")\n",
        "type(\"4 * 2\")"
      ],
      "execution_count": null,
      "outputs": []
    },
    {
      "cell_type": "code",
      "metadata": {
        "id": "qn7HQ80ZTBTl"
      },
      "source": [
        "print(1+3)\n",
        "type(1+3)"
      ],
      "execution_count": null,
      "outputs": []
    },
    {
      "cell_type": "code",
      "metadata": {
        "id": "QKMv_SVu_aWT"
      },
      "source": [
        "x = 6 / 3\n",
        "print(x)\n",
        "type(x)"
      ],
      "execution_count": null,
      "outputs": []
    },
    {
      "cell_type": "code",
      "metadata": {
        "id": "Y3mWrWLe-81u"
      },
      "source": [
        "a = False\n",
        "type(a)"
      ],
      "execution_count": null,
      "outputs": []
    },
    {
      "cell_type": "markdown",
      "metadata": {
        "id": "GrZr0JrdTK4d"
      },
      "source": [
        "O tipo de dados normalmente determina quais operações podem ser realizadas sobre os valores e como estas se comportam.\n",
        "\n",
        "O que acontece se somarmos duas strings?\n",
        "\n",
        "\n"
      ]
    },
    {
      "cell_type": "code",
      "metadata": {
        "id": "DtZH7QjOTS6N"
      },
      "source": [
        "print(\"hello\" + \"world\")"
      ],
      "execution_count": null,
      "outputs": []
    },
    {
      "cell_type": "code",
      "metadata": {
        "id": "aL9uhgyL9xCe"
      },
      "source": [
        "primeironome = input()  \n",
        "segundonome = input()\n",
        "nomecompleto = primeironome+\" \"+segundonome\n",
        "print(f\"{nomecompleto}\")"
      ],
      "execution_count": null,
      "outputs": []
    },
    {
      "cell_type": "markdown",
      "metadata": {
        "id": "H7d4_JeZYfYm"
      },
      "source": [
        "E se somarmos um número com uma string?\n"
      ]
    },
    {
      "cell_type": "code",
      "metadata": {
        "id": "D99jhFHNzild"
      },
      "source": [
        "x = 123\n",
        "y = '1 2 3'\n",
        "print(x + y)"
      ],
      "execution_count": null,
      "outputs": []
    },
    {
      "cell_type": "code",
      "source": [
        "5 + \"6\""
      ],
      "metadata": {
        "id": "FJUAPPxVyt8l"
      },
      "execution_count": null,
      "outputs": []
    },
    {
      "cell_type": "markdown",
      "metadata": {
        "id": "IbXwnWZQNksy"
      },
      "source": [
        "E se multiplicarmos um número por uma string?"
      ]
    },
    {
      "cell_type": "code",
      "metadata": {
        "id": "EYBjBrHWNrQP"
      },
      "source": [
        "num = 'olá '\n",
        "print(6 * num)"
      ],
      "execution_count": null,
      "outputs": []
    },
    {
      "cell_type": "markdown",
      "metadata": {
        "id": "_J1KbjDNtc5S"
      },
      "source": [
        "##Entrada de dados \n",
        "---\n",
        "Como perguntamos informações ao usuário?\n"
      ]
    },
    {
      "cell_type": "code",
      "metadata": {
        "id": "r_ZAC3t8tl3k"
      },
      "source": [
        "nome = input(\"Qual o seu nome? \") \n",
        "print(f\"O nome é {nome}\")"
      ],
      "execution_count": null,
      "outputs": []
    },
    {
      "cell_type": "markdown",
      "metadata": {
        "id": "qQ6NcDXuzmfW"
      },
      "source": [
        "A função *input* permite que seja carregada uma informação digitada pelo usuário."
      ]
    },
    {
      "cell_type": "code",
      "metadata": {
        "id": "OJNE9lGMzdPX"
      },
      "source": [
        "nome = input(\"Digite o nome \")  \n",
        "cpf = input(\"Digite o cpf \")\n",
        "print(f\"O nome é {nome} e o cpf é {cpf}\")"
      ],
      "execution_count": null,
      "outputs": []
    },
    {
      "cell_type": "markdown",
      "metadata": {
        "id": "WLq_W_A0ErUJ"
      },
      "source": [
        "Observe que o comportamento padrão do *input* é ler os dados sempre como string, mesmo que sejam digitados números:"
      ]
    },
    {
      "cell_type": "code",
      "metadata": {
        "id": "93hTbJ_eWcR3"
      },
      "source": [
        "type(cpf)"
      ],
      "execution_count": null,
      "outputs": []
    },
    {
      "cell_type": "markdown",
      "metadata": {
        "id": "iEdMSqVhz6mX"
      },
      "source": [
        "### Atividade 4\n",
        "\n",
        "Leia o nome, endereço e cpf de uma pessoa e imprima na tela seguindo o formato:\n",
        "\n",
        "CPF: 1233232\n",
        "\n",
        "Nome: Joao\n",
        "\n",
        "End.: Rua 123454\n"
      ]
    },
    {
      "cell_type": "code",
      "metadata": {
        "id": "Yr39UgnmXNui"
      },
      "source": [],
      "execution_count": null,
      "outputs": []
    },
    {
      "cell_type": "markdown",
      "metadata": {
        "id": "39dPUR14zy2X"
      },
      "source": [
        "**Cuidado com os tipos de dados!!!!**\n",
        "\n",
        "Pode ser necessário realizar a conversão (*casting*) do valor.\n",
        "\n",
        "`int()` converte o valor entre parênteses para o tipo inteiro. \n",
        "\n",
        "`float()` converte o valor entre parênteses para o tipo float (número real).\n",
        "\n",
        "`str()` converte o valor entre parênteses para o tipo string (texto).\n",
        "\n",
        "`bool()` converte o valor entre parênteses para o tipo booleano (verdadeiro/falso).\n"
      ]
    },
    {
      "cell_type": "code",
      "metadata": {
        "id": "TBdVcULa1enN"
      },
      "source": [
        "valor = int(input(\"Digite o valor: \"))\n",
        "soma = valor + 3\n",
        "print(f\"O valor somado é {soma}\")"
      ],
      "execution_count": null,
      "outputs": []
    },
    {
      "cell_type": "markdown",
      "metadata": {
        "id": "9iR0LBffsyhx"
      },
      "source": [
        "### Atividade 5:\n",
        "\n",
        "\n"
      ]
    },
    {
      "cell_type": "markdown",
      "metadata": {
        "id": "HAFmGb0vtQvF"
      },
      "source": [
        "**5.1** - Leia sua idade com o comando input e a imprima com 10 anos a mais."
      ]
    },
    {
      "cell_type": "code",
      "metadata": {
        "id": "tSZIslqVtMmO"
      },
      "source": [],
      "execution_count": null,
      "outputs": []
    },
    {
      "cell_type": "markdown",
      "metadata": {
        "id": "oU8Sdim5tNI3"
      },
      "source": [
        "**5.2** - Leia dois números e imprima a diferença entre eles."
      ]
    },
    {
      "cell_type": "code",
      "metadata": {
        "id": "RoPscf82tNg4"
      },
      "source": [],
      "execution_count": null,
      "outputs": []
    },
    {
      "cell_type": "markdown",
      "metadata": {
        "id": "54PGDWqgPmh9"
      },
      "source": [
        "**5.3** - Leia um número e mostre na tela seu sucessor e seu antecessor."
      ]
    },
    {
      "cell_type": "code",
      "metadata": {
        "id": "3Lza6dhHQHgG"
      },
      "source": [],
      "execution_count": null,
      "outputs": []
    },
    {
      "cell_type": "markdown",
      "metadata": {
        "id": "2OW0k9KJPv8O"
      },
      "source": [
        "**5.4** - Leia o nome de um produto, seu valor unitário (float) e a quantidade adquirida. Apresente na tela o nome do produto e o valor total."
      ]
    },
    {
      "cell_type": "code",
      "metadata": {
        "id": "BfVV8Vv3QJK_"
      },
      "source": [],
      "execution_count": null,
      "outputs": []
    },
    {
      "cell_type": "markdown",
      "metadata": {
        "id": "CzwmsPTMQLBd"
      },
      "source": [
        "**5.5** - Mostrar a média aritmética entre 3 números inteiros informados pelo usuário."
      ]
    },
    {
      "cell_type": "code",
      "metadata": {
        "id": "rLctW5PKQV3G"
      },
      "source": [],
      "execution_count": null,
      "outputs": []
    }
  ]
}