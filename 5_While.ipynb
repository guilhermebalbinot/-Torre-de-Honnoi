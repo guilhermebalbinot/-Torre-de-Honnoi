{
  "nbformat": 4,
  "nbformat_minor": 0,
  "metadata": {
    "colab": {
      "provenance": [],
      "include_colab_link": true
    },
    "kernelspec": {
      "name": "python3",
      "display_name": "Python 3"
    },
    "language_info": {
      "name": "python"
    }
  },
  "cells": [
    {
      "cell_type": "markdown",
      "metadata": {
        "id": "view-in-github",
        "colab_type": "text"
      },
      "source": [
        "<a href=\"https://colab.research.google.com/github/guilhermebalbinot/-Torre-de-Honnoi/blob/master/5_While.ipynb\" target=\"_parent\"><img src=\"https://colab.research.google.com/assets/colab-badge.svg\" alt=\"Open In Colab\"/></a>"
      ]
    },
    {
      "cell_type": "markdown",
      "metadata": {
        "id": "lJ60AS7pJn0W"
      },
      "source": [
        "# Estruturas de Repetição\n"
      ]
    },
    {
      "cell_type": "markdown",
      "metadata": {
        "id": "y_ZFd3fFJssi"
      },
      "source": [
        "Com o que aprendemos até o momento, já sabemos como ler 2 notas de um aluno, calcular sua média final e, usando `if/else`, informar se ele foi aprovado ou reprovado:"
      ]
    },
    {
      "cell_type": "code",
      "metadata": {
        "id": "BIMFhNdE9Pih"
      },
      "source": [
        "nota1 = float(input(\"Digite a primeira nota: \"))\n",
        "nota2 = float(input(\"Digite a segunda nota: \"))\n",
        "media = (nota1 + nota2)/2\n",
        "if media >=6:\n",
        "  print(\"Aprovado\")\n",
        "else:\n",
        "  print(\"Reprovado\")"
      ],
      "execution_count": null,
      "outputs": []
    },
    {
      "cell_type": "markdown",
      "metadata": {
        "id": "9OyYHMhm-ihg"
      },
      "source": [
        "Agora imagine que precisamos aplicar este mesmo código a uma turma de 70 alunos. \n",
        "Certamente, copiar e colar as mesmas linhas de código 70 vezes não é a melhor solução... \n",
        "\n",
        "As **Estruturas de Repetição**, ambém conhecidas como **laços de repetição** ou **loops**, são estruturas que possibilitam executar um bloco de comandos diversas vezes de forma automática. \n",
        "\n",
        "Em Python, temos 2 tipos de comandos de repetição: **while** e **for**."
      ]
    },
    {
      "cell_type": "markdown",
      "metadata": {
        "id": "Y24Z-y6b8-M1"
      },
      "source": [
        "## Comando de repetição While"
      ]
    },
    {
      "cell_type": "markdown",
      "metadata": {
        "id": "Y5MjQ4qe-8a7"
      },
      "source": [
        "O comando **while** baseia-se em uma expressão lógica. Enquanto a expressão  for avaliada como `True`, o bloco de código logo abaixo será executado; a partir do momento em que a expressão for `False`, o laço while é abandonado e o programa prossegue a partir da linha imediatamente após o final do bloco.\n",
        "\n",
        "Sintaxe do while:\n",
        "\n",
        "\n",
        "```python\n",
        "while expressaoLogica:\n",
        "  # bloco de comandos\n",
        "  \n",
        "  ```\n",
        "\n",
        "  `expressaoLogica` pode ser uma variável do tipo `bool`, uma expressão relacional (comparação) ou uma expressão lógica contendo os operadores `not`, `and` e/ou `or`.\n",
        "\n",
        "Cada execução do bloco dentro do while é chamada de `iteração`.\n",
        "\n",
        "\n",
        "&nbsp;\n",
        "\n",
        " ---\n",
        "\n",
        "**Exemplo**: o programa abaixo imprime na tela os números de 1 a 7:\n"
      ]
    },
    {
      "cell_type": "code",
      "metadata": {
        "id": "MAR0zCHFcFUG",
        "colab": {
          "base_uri": "https://localhost:8080/"
        },
        "outputId": "0713f489-ce15-4f66-ebf1-dc25d4333f87"
      },
      "source": [
        "i = 1\n",
        "while i < 8:\n",
        "  print(i)\n",
        "  i = i + 1 # incremento\n",
        "print(\"fim\")"
      ],
      "execution_count": null,
      "outputs": [
        {
          "output_type": "stream",
          "name": "stdout",
          "text": [
            "fim\n"
          ]
        }
      ]
    },
    {
      "cell_type": "markdown",
      "metadata": {
        "id": "zvRdnu9ozicA"
      },
      "source": [
        "A condição `i < 8` é avaliada pela primeira vez. \n",
        "- Se for falsa, o bloco (linhas 3 e 4) não será executado nenhuma vez;\n",
        "- Sendo verdadeira, os comandos `print(i)` e `i=i+1` serão executados. Então a condição será novamente avaliada, a fim de identificar se o bloco será executado novamente. O processo se repete **enquanto** a condição for verdadeira. Quando a condição for falsa (ou seja, `i` deixar de ser menor do que 8), o `while` é terminado e a linha `print(\"fim\")`, primeira linha após o fim do bloco, é executada.\n",
        "\n",
        "\n",
        "**CUIDADO**: quando trabalhamos com loops, é imprescindível que haja um critério de parada, isto é, um mecanismo que garanta que, em algum momento, a condição se tornará falsa. Caso contrário, teremos um **loop infinito**, isto é, o programa entra na repetição e não sai mais. \n",
        "\n",
        "\n",
        "No exemplo acima, o critério de parada é garantido por meio do incremento da variável `i`. Após 7 execuções do bloco, `i` estará valendo 8, o que faz com que a condição `i < 8` se torne falsa e o loop seja encerrado.  \n",
        "\n",
        "Note também que a variável `i` precisa ser inicializada para que possa ser utilizada na comparação, caso contrário, teremos o erro \"*name 'i' is not defined*\".\n",
        "\n",
        "&nbsp;\n",
        "\n",
        "---\n",
        "**Exemplo**: o que será impresso pelo programa a seguir? Você consegue explicar por quê?"
      ]
    },
    {
      "cell_type": "code",
      "metadata": {
        "id": "OVMzBZujXrvz"
      },
      "source": [
        "i = 20\n",
        "while i > 8:\n",
        "  print(i)\n",
        "  i = i - 1\n",
        "print(\"fim\")"
      ],
      "execution_count": null,
      "outputs": []
    },
    {
      "cell_type": "markdown",
      "metadata": {
        "id": "Y5WpTBuRXiXz"
      },
      "source": [
        "&nbsp;\n",
        "\n",
        "---\n",
        "Exemplo: leia um número e gere sua tabuada de 1 a 10:"
      ]
    },
    {
      "cell_type": "code",
      "metadata": {
        "id": "QuEs2gU0xbgL"
      },
      "source": [
        "print(\"** TABUADA **\")\n",
        "numero = int(input(\"Digite um número para ver sua tabuada: \"))\n",
        "i = 1\n",
        "while i <= 10:\n",
        "  resultado = numero * i\n",
        "  print(f\"{numero} x {i} = {resultado}\")\n",
        "  i+=1  # mesmo que i=i+1"
      ],
      "execution_count": null,
      "outputs": []
    },
    {
      "cell_type": "markdown",
      "metadata": {
        "id": "8nujQ4phGKlm"
      },
      "source": [
        "&nbsp;\n",
        "\n",
        "Nos exemplos acima, a repetição executa sempre o mesmo número de iterações.\n",
        "\n",
        "O exemplo a seguir define quantas vezes o bloco deve ser executado a partir de uma entrada do usuário. A variável `i` serve para controlar em qual repetição estamos.\n",
        "\n",
        "&nbsp;\n",
        "\n",
        "---\n",
        "**Exemplo**: imprima as potências de 2 até o expoente informado pelo usuário:"
      ]
    },
    {
      "cell_type": "code",
      "metadata": {
        "id": "ngZ5nRkQNPOo"
      },
      "source": [
        "print(\"** POTÊNCIAS DE 2 **\")\n",
        "ultimo = int(input(\"Até qual expoente você quer visualizar? \"))\n",
        "\n",
        "i = 0\n",
        "while i <= ultimo:\n",
        "  print(f\"2**{i} = {2**i}\")\n",
        "  i+=1"
      ],
      "execution_count": null,
      "outputs": []
    },
    {
      "cell_type": "markdown",
      "metadata": {
        "id": "wsFfXpUYZyKU"
      },
      "source": [
        "E se não soubermos de antemão quantas vezes a repetição deve acontecer? Podemos adotar um valor padrão para indicar a finalização da entrada de dados.\n",
        "\n",
        "&nbsp;\n",
        "\n",
        "---\n",
        "**Exemplo**: somar todos os valores informados pelo usuário. O valor 0 indica que a entrada de dados terminou."
      ]
    },
    {
      "cell_type": "code",
      "metadata": {
        "id": "Tqo1q3JXalys"
      },
      "source": [
        "print(\"** SOMA **\")\n",
        "soma = 0    #inicializa com zero\n",
        "valor = 1   #inicializa com um valor qualquer, apenas para criar a variável; neste caso não pode ser zero (pq?)\n",
        "while valor != 0:\n",
        "  valor = int(input(\"Digite o valor (ou 0 para encerrar):\"))\n",
        "  soma = soma + valor\n",
        "print(f\"A soma dos valores informados é {soma}\")  "
      ],
      "execution_count": null,
      "outputs": []
    },
    {
      "cell_type": "markdown",
      "metadata": {
        "id": "WpTSyqaIcAeM"
      },
      "source": [
        "O exemplo acima também mostra o uso de uma variável (soma) que opera como um **acumulador**, ou seja, recebe seu valor atual mais o novo valor. Por se tratar de uma soma, ela é inicializada com zero."
      ]
    },
    {
      "cell_type": "markdown",
      "metadata": {
        "id": "O1ziC6jI0jQo"
      },
      "source": [
        "&nbsp;\n",
        "\n",
        "---\n",
        "**ATIVIDADES EM SALA**\n",
        "\n",
        "**AT1** - Faça um programa que imprima uma contagem regressiva, começando em 50 e terminando em zero."
      ]
    },
    {
      "cell_type": "code",
      "metadata": {
        "id": "k8wjx0UFZbTa"
      },
      "source": [],
      "execution_count": null,
      "outputs": []
    },
    {
      "cell_type": "markdown",
      "metadata": {
        "id": "cFyqqE64gI4E"
      },
      "source": [
        "**AT2** - Faça um loop while de 1 até 100. Exiba na tela apenas os múltiplos de 4."
      ]
    },
    {
      "cell_type": "code",
      "metadata": {
        "id": "QU7WzJhEgakK"
      },
      "source": [],
      "execution_count": null,
      "outputs": []
    },
    {
      "cell_type": "markdown",
      "metadata": {
        "id": "IxFksPiOgkQ6"
      },
      "source": [
        "**AT3** - Faça um programa que pergunte quantos funcionários há em uma empresa. Depois, para cada funcionário, solicite o valor de seu salário e apresente o valor com reajuste de 7,5%."
      ]
    },
    {
      "cell_type": "code",
      "metadata": {
        "id": "4aUtQoDIhXcC"
      },
      "source": [],
      "execution_count": null,
      "outputs": []
    },
    {
      "cell_type": "markdown",
      "source": [
        "## break e continue\n",
        "![image.png](data:image/png;base64,iVBORw0KGgoAAAANSUhEUgAAAWsAAAGDCAYAAADtUTGXAAAAAXNSR0IArs4c6QAAAARnQU1BAACxjwv8YQUAAAAJcEhZcwAADsMAAA7DAcdvqGQAAKaMSURBVHhe7Z0HYBzF1cefykk69V7de+8NN4pteu8QSiCBwAcEEpIQUmgJNYRAKKGF3kMxNs3YuPfe5W7L6l0nnXTSnaT73v/trXSSZVuWJdtnv59Z7rRtZmd3//PmzZsbPzdDiqIoygmNv+dTURRFOYFRsVYURfEBVKwVRVF8ABVrRVEUH0DFWlEUxQdQsVYURfEBVKwVRVF8ABVrRVEUH0DFWlEUxQdQsVYURfEBVKwVRVF8AP1tkA7AKFI/cvM/Pz8/XmGsx9cjpeHu4NhWnAf7m4c04ib/tiSuKMoJg4p1O4PirKklWrCzgipr6mVdiMWfBqSEULe4IPn7SMi1uWhrbjXZHHVyfN+kEAoLbrlBhDu5cKediitrG0WeCQwgunhIdJsqC0VRTgxUrNsZFGdBRS1NfnYn7SmskXUpURZ69OJUumV8rPx9JHy7qZwe/SaXNmRV0S8mxNED5yRT14OIPu7kmc/toOV7KqkO9QSLM9aFBflT2QtDxTj3Beo50w6nm/LKXVIxJUdaPFtObrJKneSsw/MSSCGB/lq5Kk0IeITxfFfaiToWSAh2QnggbcurpoiQADq9TzgN7xx6xC+gw1XPwuumrrFBNKFXOA1MtVIoi+/BgCXeKSaIBneyskXvR5klTrIE+NEfz032iZffWeumdC6zGRvK6H9ryii7zEVD0kIpOPDkVi60hl6eV0g/bLFRWVW9VLDR1gDy91fFVgx80rKud9dTgcNGYZYQCucFTlrxDbczjUXjfW6PH9qLlkoQ1iGEeujftrFlGCiW9a3j4zxbwYHnaQ7Oi1Ob+cD+OOJQhzUeQ/Tm4kK688NMsU5tLwyj1r73nuSEDijWA0B6qOD2FdXQUm4VfLOxjGZvraAaFu6p/SPo1Z91odToA61r73ziqg9Vngfbt+l6YK5oei7z1Ma9wB9Hkh7wTvPAc+zIr6Gb39lHa/dXUSRX7ucPiqTzBkXR+J5hUvmiB+RQ6TXH+5lRTg58UqzrWKw3FO+l+TkbaXRiHxoW14MiLFbP1vaj2F5LWWzZVbN1i5cLz31CeAB15pcnkK1VAF8yXjQ2fmU71iaxOOMF255fTUMeTafkKAv99YIUumRoJDfta8V6DGcBTWEBgvXUHBcrVw6nW8jpw51hvm+hbCl3iw+WYw8H7uobi1isP8piS9yvVWJdyxdRwhZePufR4XJTEF9jQkSgtBCCOsiyRaWWa6ulpbsr6btNZTSLRdpolQTQhJ7hdNWoGC63KPH7m6ClUVpVx/l0UZXTLfciJtSfy91CVq/9AAR/P7cucJ9wj/C4R3GZ9+By9Oddd/I9qqhpfAVwPzrFWPje1ch9Arj27nEW6aTF84C+CKxDueBeBzQr2PLqOsoqdZHd02cBUGHDHYZnKYdbP/bqeorja0yNDpJyxr7vLSumbzbZaPmeKrauaymNn4+L+drPZdGe3Dtc8t0aqpz1lFHsJDy2qVGBFM/5VHwfnxRrRFnkVpbSjfP/KVb2tE7DaWLSABoWz6IdaIh2e1gUH64ooZkbbfKiQ4ZxyiFpIfTgecny4qDofthSQS/PLxQBwT4QjhFdrPTQBcki1rCsse8F/MJB+Paw9QgRgPU0iM917sBIGtoplF94SVKAuHywvISW7a2S85q3qFdiMN11RgL1S+bWxGHAIa0Va6QBgV68y04r91XKi17JIgjXAwQD7htYeD0TgttNtJE/iNoytqR/2FIuy64Cw2U0plsYTe0XwSIVSQNTQ6QCxP1EORTZjWPgl99dWCMihw5UCPUg3vf0PhHUNylY8o5jdvA9eGNRsbhWxI/PxIUF0NNXpFEFp/+PH/OlskB+cH9xj27hFtDzcwpY6I1KOizYjy4cHCUumS05Dirj5wE+5S6xFhrXI4wm9ooQgTdZsKOC3lpSzJVtXcN5LxgcyfmziuWMxeaol9bC2QMiaApfK54HVNIbshxcadlozrYKWp9ZJZUN7velw6LpjD7hNLpbKFfWAXLOlqjmShb38a0lRXLslH6RdP2YGIoObZ3QKycuPumzhjMgKCBQRPuN7T/S4rx02m7LFtcIXtC4kEgKDji6TikIw8p9VbRwpyEMcGlYWO1gCZ3ZL9xjwfnRZn55F+200yJ+QXYW1IhV0ycphKb1j6Tiyjr6z4JCquEXaB8L4KacaqrlFxJ+6I3ZxnF4aXuzCCdEWBpeQFi3qzjtXXw+CAZEaSO/xHiZ8fJ5C8OhgCiggxI+a1QwLb3gqGP2Fjnp9UVFnNcimp1eQSVstcKK3F/qpIU7IOBVYu2ihZDG138woWgtuP4VXBG9t7yYhbSIZm6wiaU5pnsYC0ss/WJiPF0yLMqTliG6uB8Q1Y9WldILcwvpu802yuc8wTrOLaulJVz+S/g+ZbNFCxFM4WMD+X4h30vYap+3vYLLsEruURG3WK4fHSOV8NOz8qWcUNaoRGGFDkmz0nwW3P0lLs5nJe0pdNIO3v795nK5pxauWTO4QsWzsWa/cV/Q6QurHHndVeCUlgKsa0TybOZ7jbRW8jV/vraM9vKzUMLnWb7HzuJfzZV7KKXxPcV9QuU4lssBFXNcmIUrzXo+vloEGHkv5goAfRGonJpb9ADpzGAD48V5RfzMcouPbzAqsNgwta59HZ/tYAzgtzQ+JIpWFG6nPRV5tN9eRKsLd4lo51eXiTUWGxJBQf6B8gK1BbgyokMDxdrES3DD2FixuiA001lgVmdU0vlsMUMYvlxnE8v12tGxdM9ZCfJyFNldIoBB/HIPY2v7ltPi6IoR0TSVhTyJxRkv387CahGXsWyhmbkMCwqQl380W5ho/pazkEGwcc4L2MJrT7Eu4orh3aUl0jqoqKlj6y2CbpsUz83vaBrdNVTcD9u5okLlAnGApYuWQluKFFbmOrYW0WKB5fnZmjJx98ByvJbF85cs0leNjBYXBfLsDSq16evL6PmfCmgfVy4Q9tsmxdHlw2PE6o+yBsr6dXzNqAyQz4RwC0VyXtEiiOOyQ6Vk47KEpdw/xUqZLMYQ8coaN/VkcfzdtCT6Od+jodyS6JMYItb54t12quOMw91yHlv6v5wYJ2UzkgUWHb3rMx20hQU5mMtpCLeQUF4xbLnDikZURyYLNizyAhZZRLcM72ylG8fFii8ego1W1NncukIeTfHFtXeLC6bR3UOpO5cFyruAKxgYBqszqiTKCNY9nk1cV/N7gQoeIo9yhNUO6/9QndKKb+CzYg3r2sJCDDGelbmWXPW1VFPvon32AlpTuJu22bIot6qErasAigtm0T5CSxsCj+YmLJ1vuVmaw1bd+J7hLJ4R9MCX2fTRylK2nuwiFqxBYiXihf3DOcl0GgsJXiBYQa8uLKIYfqluZhG4d0qCvMRiSXsiRfCy92JhOHtAZMNLh5c2jrdDsLvySwureg2/pGjKtqdYw/0By+5v3+aJkIxicYZv/eIhUSKgg9jCRFw3/OzrOQ8Ql768foDHNXEkQKgRqQJL9s3FHrcEr4Qf99dcud1xejwN5vSCDxKyls5WIoQa5YVIl/unJdJ1XDEifh35RJQMWiQ4L8QMZdyft1lZpBIjAiXPoVwJwjUFixfCvXBnhfiPYcU+cHYS3TQuji3cIHH14L7DNTR9vU18ymf2jaDHLk6V+9SDhRWVAdwtJVX18hzAbYQ8IBYerS7pEOXrgGW+my1zPAPwvaMix+fILug4tNDIrmFS2UB4va8b3yH8fThvI/i+4CGDUMN1hIp7HZcD7p9ZaZjgXqdGBdEwrhRQ0U/i5xWuHcX36dDqFk1X+JRr6+uosNpG28qy2PrdSYvyttDs7HU0K2ttk+WHrDUHrDvUsiB3E9Xy+WODwz0pGpS7qjiNrfTvLTPpodUf0rMbv6KFuZvJ7nJ49mg9sFwQNocXdg1b0rPT4VutEaGxs0X24coSaaLizcRLg5enCfySsf6I+MLCNsGLCIsJnXpObkYfD+DThE8XLz+sSLgAytiC/Wm7nWZtKac52+zc3HdJ3tGpCVcO/KiGD//IgPigHE5jK28KtyxwPmiTi0+1JsNBP8H9wmJ7sJLIsyFttu75oHi+J3VuP1qws1LyiQUVHwQvmi1suCo2ZlXLp+nvx/qfjY0Rn38it2o28HXgPqK18ieuyGDZe3dieoNK+7Jh0SL4JqhQUcleNCRSyiez1EmbuPXRErj2CSzId56eIJ2mCMtDhQDhv5UtdYn2QGE0AzmHkfDD5nI5Nzpj4Z6KZ/E9iy3mkSzi3n0dJoj+gf8e7hVUVMrJQYd1MNbUuWinLYfWFu+m3eW5tN9eSCU1dqquc8o2LPUtvJp4Zs215vOLv73XewOLem95PpU5Kz1rmgILOSYonKakDaVf9J1GE5MHUFjg4TvoTFA6z87Op3+wRYhzwZpaxRaOk5uabs4Vmqtp0YHS6YWXY/kf+xr55v9t4+bxkMeMaJBHLkqR0D3zpYRQPPF9LlvkJfSryQn04rWdW+wAhE/5b9/m0kvzCsXSfvm6LjSWm8eHA/k+XAcjRPftJUV0/+fZYpHByoWQmW4j89Eoc9SKNYpIhp/zNfzl/GRpnrcF+HfTuVzm77DTV+vKxCpFKr1Z+M7qF04XDo6mCb3CRMy9+Xp9GV375j7x+SMCAxZw8weiivOHuHJc11UjY6TM+3NLwCzzyhr0IRTx/SygggqXrIPF+9RladzyiW3SeYp8frqqlG5+J4Mt0wB65+fd6Byv1g+AeC7iCuO29zPELXHfWYn0Jy4bE7jJHp6RS7O2ltN9UxLp92y9w9fcGsr5fHO50vx6QxmnUUF7uCWATk2I9EXc8pnUO8xzbc1uqnLS0u5ukKraGvEdv7tzLr3Py9L8dLGqwy1W6hGZTH2j02hoXHcaFd9blpHxvRqWEfE9m/w93PN38/X4G8vwuB7UOyqNNpbsI1sLYg3bLdEaRdPShtG5nUfSgOjO4hKBa6T1uCVq4Ee2/NAsLqyoFUv43IFRtL+kRkLI4B6AiFzKzVv4NeX14ZcIHVkQh/CQADqDm9Heg2JwDDol0fs/ipvC8H239N5BjzCEHJ187e0GwbkhwjM22CSKBQKIBZEJESH+EpkBqxKdnz1ZnOEaQecXfLrY1hZgkaJCGNrJypaqlUU/SHzyiLLYlF1N6XkO8T3DfSFhcZxp5BsdeoiSQNlD8OAeQh7gk0Ye8QnhReXZLyVE/P2oPKOsEH0/8eG+t6xEOlLNgTYoDljz6IgL43PADYMKDQKIShIuIrhB8DdaHZN6h0v+kR/UY6gUZrMQf8NlHMtpn8/3BvfYBC6W+Sy4aLnAbwyrGnk9GDgnOqhRkb2yoJDeX1Es3+Gvh2X+a64MbhoXS9MGRFBypNH52hI4DzrfYUzIRfIKFXXfp10ta4jyjIyV9NmeRVTpqhZBHZvYl7qEc9MzJIpiWCitgUHiZ7awYPr7tdzsbC1OtqrnZ2+iG+b/U9I2gT8brpGzUofQeZ1H0ZjEPtSTK4qQgCP/bQ4UDwTt4ld2i+8YhYUX7n+3d6e/stUE1whebAjiWzd3pZ+NiTVeZt7vRLes4fOE7/MWth53F1bTmX0j6e4zE8Tfaj4VpjCZ32O4woCIwrd8tKBsIdSoVBC69/maMtpXXMPCG0hD00JYlCLpSraQ0ZpBpfbgVzk0J71cKgy4FOA3Ns5j5M38DlCxYZg6IidgUb/LQo1OVHTqIlTyj+cmidg+82O+3IseXGmgv+HWCbFcTn5NLGs/P7dUArhPlw2LkvsAwf+ORfrNxUVSwWAAy+OXsCWf0hjvf6SW9ep9lfTF2jKaxwINt4eDhRt+cHRKT+vPlX0z/3RLIN+IPvlwZakcD7/1pcOjxc2l+DbtJtZwc7yzYw59u3819YvuRFf1mEhDYrtRcmiMCDPUq71r9+LqCvr10tfokz0LRRxxdtPlcUGX0TQqoRd1j2CR9m9s2rcFuDyuen2v+EYR3gUR+eDWbvQ+C+2DX2WTi0UPnUrr/tJPmvOwjhCShlhZhHtBMGBJwuqGG6GUrWqIxLLdleIH7pkQJC8kmu5dYoPE0kWsrunLxssHkRGfeNdQiXIAEGFEUMCCRGXxwtwCET68sLiriOlGpxSsU5zf+OU9Y1DIZfwCI7wQLQO4Qp74Pk98trAekdfOscFSnhgGjdYEIluQH8Q/X8DNcFjf7QUqDYTYIa8YvThjA0LkaqW/APl8lCs65O2LtaX0t+/yxEUAS3VMt1CxsBFSaQ6SwXGIvYZIXTgkUsLlECv/E98LRF6gj2AYi/Xnd/RgMauja97YR+m5XAlzeaHjENd/Dd+HKSyOjWJNfL3+Yn2jQzOarXVUMrvYYs5j6xl++N+xECOSBhUA0kOUCVwtm9k6z2Vh78MVjnR4Woxys/K9u2ZUjKSHZwcdnn/kZ+knrozMGOwr+Z7hmRnG1jr84q15gsu4HPBc/uXrHLlfiO+GmwedqIpv0y5ukKLqcvpo1wL6at8ysWbvHnghjUnoI9ZtAFvPsHTbW6jhq16Sn05Pb/icHLUuigwKZYEeRfcNuoSu73W6+KZTQmOlojjatHE8/Kzr9jv4BSD643lJ4rpAzz/CzyAe8OHC1YBmst3jG4W/EXIL8YQLBaJ0Vr9IiRf+5+wCsc5QV8IlgtAwRGOgKY/fxEC0CTrU8LJDyDCgAwMe4LtECBeWvcUu8V0irhtW83N8zq/Wl4kViiY8wuIAJyt/45gtuTXi10VUyigWO4hgZ64gYM1uz6uR6IUNXDngc8FOu8RZYwj4Gq4E0MKAKwSVQ/ORgkcDKhG4NOBqGcIVBRaIKtwhsJBhGaKCgYAhlhkVHPoN1mdWixjDnYRfOURsM+LT4XaAOCGf87bbxf2BDkBzUAxEFwNFYHl+urpUyh/3CZ2rGI2KygpuFNMNEsnijJBNdDKjXBBbjQgZhOYhVPPOyfFi7aO1gVGn/1tTKoKJCraCRR2gsxPuFvPeIUIE+UMkCzqeETb5ztISycvVLOL3s/hfzteNskB+W/sEYxwPhB/uE1wvrgMDr+CKU3ybo7asHbVO+j5zNf1j45fi9nhg6JXUOTxeBLojQcTHrxa9TN9x2vBJX9l9gvjCu4UnUkggfkuh/dJHCe1lKxUvH0QEMb6w+mClQszgD4WlObFXuFhhEGc0YxGqZpYu1uMYWGaweBAPjE9zO8QI1hdEC2KDX2AzxcUb7A5hxnFBLA6D00Kkxx+CB6sa1iWf9oCrx3HmOnSkISQPVjzyBTHH0HqIPKI98LIjRAwVj5VbBahAMGgDldMAbubDZw5LviPAdaFcUN6obCDWGKQCnzo69PAjRwjPW5tRKUPCIYZ4hOHjhn86JSpI/OBwH2CEISoYiDuEGdeKcoAbCzHkuJdwA9n5WgEqZZQt3C6owLw7GN+8satcP0QaHa24/hi+n524AvEeco5WFe4frHiU68FKCdeDig9licE7aLHh/uF4pNOFFxTxkRoaSBMtIVQIMA7w0wiozFuKGlF8i6MWa4TjPbb2Y7K7qunx0TfSwJgu/MB37JOB3wZZlr+N3toxm87tNEJ+GwR+8bb4pJVG0EkKFwKsPITUQSYwlBsWJVwwWExROp5AkNB6QYtGfr+DBQ3CBr8sRBuhaxDAo8HbZ43K8INfdKOz+kbwFu2sU44PRyXW6OCbmbGSnlj/Gd3adyrd3u9cGajS0SB2O7eqVMIAU0NjRaT1BWo/Gh8Jo0xP1KI98MltHyGF3/e7zeU0f3sFvbmkSFpNt09KkFYRrGi4ng4V1aEoHcFRiTU6FZ/Z+IXEUb884U7qHp50zETTHCCgKO0JXoc56RV0+wf7xcWC0D60JjB4Bh3FGBb+jyvSpKNXUY4lbRZrRHGuLdpND656l4bGdqcnRt9sRH0oio8DHzdCJeE/xtth2AR+4veFn/+mcTGHDMFTlI6gzWINv/Gc7PUi1oj+uKXPVH6c1dJVfB/47jEiUToIvR9p/hsdixgwdCL47pVTizb3BGKk4u7yPAr2t1C/qE6etYri+yBSA795jQkQ8Dsk8fwdn/hBJESnqFArx4M2izV+26PQYSNrYDAlW2PUqlZOKtD3Yizmd88GRTlOtFmsMSilorZK/NQRQe0/pZaiKIrSSJvFutZdR/ZazJ4SYExaqyiKonQYbRZrdDBWuWoo0C9AB6MoiqJ0MG0W6ya0KZ5EURRFaS3tI9aKoihKh6JirSiK4gOoWCuKovgAKtaKoig+gIq1oiiKD6BirSiK4gOoWCuKovgAKtaKoig+gIq1oiiKD6BirSiK4gOoWCuKovgAKtaKoig+gIq1oiiKD6BirSiK4gOoWCuKovgAKtaKoig+gIq1oiiKD6BirRw1brebF3x6VhwDzPSQttIULZeTExXrU5C6ejeVV9d7/moH/Pzom002WpNRSTW1HS8SlTX1tHCnnRbtskvaioGTy359poO+3lDWqnLBc2DnsjwW90w5elSsTxFgaNXyy7k520GvLiyimXih2wlYcR+tLKH5O+wspHWetR1HmaOOZm4sox8229SC9KLKiUqsgt5dVtyqcqngCvsbLkfcu10FNeSqM1pIyomJivUpAF7Agopaem9ZCb00r5D2l7goLjywHV9MP7HOIBZ17WiwtwREqJZFpcrpJid/Im3FgOtiKZeaWvx1+HIJDPAja1AAbc2ppte4Av96fRkVV8rBygmIHz/8bXpl99nz6aHVH1K5s4q+mvZnbnXpS3OigTtb7aqnudvtvFSQiwV1UGowTR0QSd3jgg9oKWN/B++fVeqkXFutiGGoxY86x1rY6jJe/65xQRTgbxxYUllHO/KrxdL9+3d51DM+mC4cEkVR1gDZDrDrsM5WigsLPDA9XtAU311YQ3me9CKC/alHQjAlRPD+xm4NlLCQbMuroT1FTvpsdSkFBRL9cmI8p9G4J2sP9UsOoeQoi2dNU1Ch7OXj88pdUrFEh/pLvmM4f57LkgqhmK9t7f4qFjR/6pUQJC4GVHIRIX7UPyVEygB/Z3NZxXPF1ysxmKxcVt7vgVn+2WW8Hy+4vnC+vm5chjgmkM/hXSblXI4bs6sljzhf5xgL57WG7wfy6uYysUjaQSyy3sfhnm3Mcsh+322y0SYW38cuTmlSLhY+pivfR5StN8jf9vwaWrzLTum5Ds6Xhab2j6DhnUMpNMj/gHumHD9UrE9ScFfXZ1bR/9aUUaG9lgamhtDEXuE0OC2EggNbblBlljhl//Q8B0VaA1mo/cleUydCUcTnGN0tjH5+WqwIG9jDIvvTtgoRok9ZPFNYILEPXnIT1gi6dnSMiIQphgAP3edrSmnl3krJX2RIoIh8kd1FISx6V4yIkfya4HoyOH/fby6nndxkh7hAgKb1j2wiKBDDcwdG0IAUa5P1OH5zjoO+WldGWZzfyJAAyQ8qGnxezJXMOQOjWISNfVGBvLe8lNbsr6TeLJxlVbUs1IHiLx/AgpkabaG528o5rwHiPpjYK5SuGhnDfzdeO1wL8OVvy61mC9afKxd/skl6bjqzbwSLYiTFhDZWbLk2l5Q/KtZp/SIogDet2ltFsZ7yzuHtg/g+3n1mIuelMZ2yqjr6Ym2ZlMuajCraV1xDPxsb1+T6rZyv03qESpm29KraHLW0Iaua5nPamVwBDUq10nmDuFLnigzlrBx/Ah5hPN+PiDJnJc3L2UQ1dS66tudkFesTANS7EMGsslrxW07nZi2E9YLBUXTRkGix6ND0bYlSFqMZG2w0f0cFndEngl/scBGGrmyBu1isl+yuZLHxo4m9w1kQDYGBdRkbZhFre9keO1u0VrpoaBQNSbNSn6RgWfomhVAnthBDWKiaPCKc0e82lRMbkTS+ZziN6BLKx7FFHGmhwoo68X+P6hrKlYaRFo5FejFhASxwgbSPrWNY3zdx5dHXkxYWCGunmCARR29geb48v1Cs6Qk9w6RSgaBj31K2or9ab2MrO4DPEcJ7u6WcUOl8sKJURPd0LpNpAyKonsv43WUlYpmP4nNM7hMuFcxqFsmhbI3CYobYQzjfX1EsFcyobqFcnmFcYVrZug2iChb8eVzJgS78t5lXXF80Xxs6CNfud4honsGijjKHRQ1h/4zFHBb80E6hDeXpz8dBvJOk7FxUzue/d0oC9eUWRh8uD7NsOnNaqMxaeldRySAvPblSxXXvKnTKPYC1nxwZKO4SfcWPLyrWJxHoMJq50UavLSzk5i3RmSwkl7OFCjdEMAvtwW4RRD6vvJa+31Ih4v7rsxJF9NJYyGAR46U3X+ZhLEgQbRDM6yBOsKiRLo65kCsGNOFheWLBNhzbPG38ncjiMpGFejyLJ9JBer34E1b9dK44BqQEcwXT6K7BNcSHB0jLYF2mQ8TrptPiKM2TFhYIFqxIb9Dp+dycArHyfz4+TgSwB1uMEC9cGyxlm6Oe3uEK7iK2sMO4MkKeo6z+bP3baBwL7e+mJYrYhrFo/bClnEZzRfJ/ZyTIsTUuNy1nCxjXD7Gr4PT+t7aU9rLg/WxMDJ07KIq3hUh6vVk0UbkgGuenbXY5BvmGywIWbAKX53SuODLYOr53SqJY6ygTVJoQbFjXaF38bGysXBvKBiKP+4CWCSqJfL6X909LalIuqAQjuDVxqPcUm3COXpzXLpwenovle6po0W47X7e/uJYOVtkrHU/Tp1rxaZbtqaQX5xVSsb2OrhwRRZcOj6HUg/huvcELDHEKY6tra45DLCq4NtBhhQUv8CXDorhZHMVWV/u8rLA+e8QHiR93Hje90Yz/ap1NBGxPUY34qxFW1h7AJ4tzQjQhzqxt4toxFwjdzWyho7JbvrdS8gZQLvAPj2HLGBUL8gQPUjxb9yNZrFFZiMjyShxTzaINMoqdtJPTHNzJKtY3ztE8vatGRsv54KOuRPPCC6w/Z0Aknc0LKgdTYC0B/tIagGB3JKg0YJFfyRXFGX3DadW+KumAhI+es68cJ1SsTyIgRLdPihcxeGtpMS3cYTS1WwOiQ87uHyGW6T9m5dEt72bQ9W/upXs/zaKX5hVIRxosTe9Oq6MBHVuvLiiiuz7aT28uLqYVbJmuz3Kw1WiTUDI059sDiCg6FNH59gxfF67p6tf30lWexfi+h+78KFN8xltzq8lwJuFgCLabKzK+Zs8qCCcsWelMFFk9EFR0G/ha3l9eTDe8ta8hHTPda97YS/d8kkUr91VKJQI/eCNuSaMbV2QttYZQ0eCa2tjV1GoqquvEgsf9GMEts+vGxBqdvu1z+5U2oGJ9EgF/6BUjosVfid78/7AY/v7zLGka49U+1PttYRUY3iWU/nBOEv3x3GS6fnSM+JERDbJ4ZyU9MjNXLF9EHhwt8Pu+w5UJRBn+9LvOSGDLNoauHxMjFu51o2PFd9teID1YwZcPj6bbJiVIBIm5/IIXrLttYhy98/Ouss/BRLi1wPpEa2Rqv8gm6eDzNs8nlleu70I3jYuTvJ0I4Pmoqa2nBdyy+tP0HG7lVEhH6D1nJdC5A43OUNXq44eK9UkErB74a+FXhk8Twgu/8m8+y6TXWLhLqw4+YCW/olYiCeCaQEfaNaNiWFDi+EVNpPvPTpSoALy8aN4fjVGHY7G8NL+IxTlW8gmfNfzB8OUi78O7WMUl016gtQD3AzoPp3HrAVEO5zdfuNLAeviQj9Z6TAgPkAiOpEijtWKmgfM3XxClAxfUiQCs/Kd/yJcWD3zvv5gQR5dx5YWOY7OfQjl+qFifpMAKGts9TDrB7jw9QcLWfvXBfvp6g00sP2/BRVwvQrZemV8oTXhYlohQgOCkRQeKfxaCCsE7mL80hF9muAdA8ya6KdDe6/cW18h5vUPQAHzY6FxDdEpLwEUAnypcBPDuHphW098pgfCigzU1Ooi+42Y9Bgc1O0TAKljgxrEt7HAEQOh6xFto1b5K2pTtaDk9pMOfZprtAcIO4Z4xysBYvMGfzdNC+ohff29ZMT00I1eehdsmxdGN42KlZWV0Snp2Vo4rKtYnMXjJEBGAWOT7piSy9RhJby0uors+zqQNWVUNLzOGocNHjM61L9eVSWiZCcQRg182ZDrEX43ztQSiDfaXOCWOGCJqgk5CxBp/sqqMhdizkunE51m8q1LObwLf7ccrS+hPX+VIZ9/BgIshJSpQBu/sYEvfG+T9u802+mGLjYrthuBjoM0t42MlfO8/UiE5RaRM8BXb7vgwiz5YUcJrjk6dkD90DqJcX2ErdQtXlM3ZlueQ6/zv4mIqOUjFdKSgVYUwSpQdQv+8gQgv2W034sy53ABGnc7bbqfff5FN83dUSqw5KvZJvcOl3wPir5w46KCYUwTcZHt1nXS2YdAFXuxfTY6XbejsQ0z2gywecHfABQGrKjHCIsK2IbNKBnTcMj6ORSjigGY7niCM9nv8uzyq4z9g0SMCAmltzauWCAp0fF4yNFqa08jLDE7vz9Nz6TS22GFh57JFv3a/8UNQGJDxY3oFuerqaSTn44FzkmkoW8cmOH75nkp64acCCYFDDDNiv/cUVtOOgmp5Fm8+LU7CCE3LHb72BXzdb7A4QsyGdAqhHgkhlFVSw4LvlOuEC+aBcxKpCwveyr1VdPcnmXxOJyVzxXAui+8/r+pE6Xw9N/x3r+Th6pEx9OB5yTR7azn99n/Zcm13cJnCH40yXcNlgphsjEJEiB9C4oxRmNXSmYlwvjtOj6ehnazSWpi9tYL+9VO+RF/gHqREBtLbP+8msep4ve7/X5aESCLGG+Xy90tSaUKzgUNwZTwzK19GeiKeHOF2GOyENKs4TwhNvGFsrIhxPp8H/RA4NwQafR7WIL9260RW2hcV61MMuEDQ04/f10AECMATgNjgPBYQWLfrWJwx3BxDzOFu6MZNegx0QczzwXzJGMWHwSMr9tops7SWrUpYtH7iEkB8cFq0OSDD2B9hbhi9CFdBJX8P4A2dYgIlfhlhcrDQMcQbAohYbe9RkQBiuK/YKX72jBKXpI+wQgwNh28ag10g1N7Cg4oAAoUQR4y+5FOIDQ3f8sguVsmjEaLnpkonhpcbFij2Qd5xTrhpYJni+iL5/MgbRnliuDzcRHAdIRYc7wP2zecyxUjS7VwhIESPNZn3CRDXDMoTomn6g3HNyB/ODbAWUSFwMeF8EF2z1QOXE1o5yJc3KAe4qlAuaHXgmoP5NsPiNgYBWSiaLX8cD8sfg14w7D3cM6JTOXFRsVYawJMAMYcQQmjgKsBLDSsZom36pA8GxAoijGNxLjSjMYAlWMLcDgTCguY5Kg6MwkM68JUbtnfjEQd7tJAexAgL0kP2YPVD/HCOlp5J7FfNaoiBLDge6cKqha8Xwm4eYrwWTY/3Pp1s9qThvW/zJLGlhssTeTSvE+IICxYV1AH7N0m36TUYaTbS/FgT3DdcXw2nV8eL3EMuE9xDlJG+q76JirWiKIoP0HKbVlEURTmhULFWFEXxAVSsFUVRfAAVa0VRFB9AxVpRFMUHULFWFEXxAVSsFUVRfAAVa0VRFB9AxVpRFMUHULFWFEXxAVSsFUVRfAAVa6VdaONPzBwVxyNNX0DL5eRExfoUBO8yfgWuvcD5dhU65XeW8ctyHY2ztl5+vjSz1CVpKwZ19UT55bW0A3NutqJcsA9+hvZY3DPl6FGxPkWAtYWfBC2ocNGKfcbvSLcXbv736Mwc+nRVqfwudkdTXFlH/1lQSG8sKpK0FQP8rvaX60rpL9NzWlUuVc46mTRidUaVzAaE50M5cVGxPgWABYUf01+z30FvLS6m52YXHDDt09HhR1Uut8zaUtvxWi3WIH6o35hpXX+a1wRii3LBJAetKZdqLkdMxPA6V3qfrCqhTdnVMvmEcmIS8Ajj+X5ElDkraV7OJqqpc9G1PSfr71mfgECkMRvI9vwamXrq8zVl8mP/d52ZSJcNiz7gx+thfWNCAEw9hdnOCyvqGmYmgdhjYgGZSMBzIM6VU+aS2U0wEW9YkDGbSiVbeLDUYAGXVNVRSKC//MD/gekZP5RfZEd6dZxerczZGMj7trQ/0sOEvpghZunuSrm2fsmYKstIC4uNKwxMI4ZJD1oCLpQie51Mq1XMnxA2TAZgkQkLGoFoIR3kH5MS4O+cslrJA8oAeS/mcsorr6MaPufBJmdAeWJWeUmP82fn/GE3XGPz6bMw6QNcOygHXDyuAfNI4liUESZNwIw5yKn3oUgD5YJjMSUY8o0Jjr3LpYxFHAKOyR1McK7BaSEyKS7mw8QMQagIw4IDZNvhJptQji06+cBJCu4qXmBMs7VgR6W4JzAn4bkDI40XvoXbhRd6xd5KmTwW8zX6+0MYiBIiAsRi6xIbJJOqYgoogLkFf9pml3Q+XV1CKZFBNLp7mEyvZcKaRNeMipb5Dr3ffeRvfaaDhaXGmB+QKwOIAx7HrnEWOr1PhEwJ5g1E6PvNNtpZ4KQlu+wieJiY1vtaMM0VrrF/cnCTZxLpQfTg/sE8iqh86rkeCuRL6cwVDOZxxPRjyCP2xVyG7y8vlSmyRnS2yvXbHKhIiMbxNUaHQuDsIsRI8/Q+4TL3JCoZE4juOr7GzdlVUokgPWQpNdoi05chPe/pypC/z9fa2MKtorP6Rsh+y3bbjbxynnDsad1D6ax+kRTCFYZJGecBEx3vLKiR6bxQTj8bG9ukXDA1GK5xYq/wJusBrhcV7rebbHJNmAl+cu9wGt7FSnFhmDi32QHKcUEt65MIo971M0SXLSzMZL1gp52GdLLSb6cmycS0MuVVC7cKFuPc7XZ6Y1GxiArEtTOLcx3/gebxDLac8dJigltMTgtcbIXBqoNltppFsBPvD8HqHGOhxIjAhgUTxYYFI92mCb++uJhmbcV5DYsc8w1CFDEZ7p4iJ43qFtpkcl6k5WSjE9OFQZAirQE0tX8EJUUiPWPBfIqY+DWS8+SdHibEfX9FqUxKi8l/URFgX6S3iMsIotqNKwmcC2D+SZTjO0uLaC1vQzkMTLNKup+tLpPP0qpaLqdg2ppbLRXc6G5hkidQwEL99foyKTdYzN3jQ2Ty2iq20DH3JCqqGBZCzApvCjxfHjn4Pny2ulQ6UDEbOSxdpAvRxLyR/+PWUZ+kYK7QUBnJYZw3TAjslvNAdHFNV4yIlrLH9SSEczqcNu6nOT+kN/gTFfDwLqFSLjvyq2l1hkNaTbDiUTGhzJoepRxr1LI+icCLvoWFY/72CvlM4pf1+jEx3NQNbXixD0YGi89L8wrELfD4Jan8ghqT6YIsfmnfXFwkFuQvJ8ZRjNc2PD1wZVz52h4a3jmM7jw9XiaBRXrYdrB08dgtYisuls81MNWcuRziT7SUReqRb3LpiUtT2RpsagninBksZE//kCfN9acvT2tisYPmacJN8eLcIrE6b5kQS5PYujQqATz6frSdxempH/IlQub1GzpL5QNgNZ/9/C4R9eeuSmMhC6F1+yvp5ncyRJgfuShZrHJYpG8vLaFfn5VAZ7JFDF/6F2tL6cctFXQOW/kXcIsmyiPiADOwv7awiGx8/vumJvL1w6I3Mo3ru/zVPdLxd+v4OLr7zASZhBfgvPd9miUTHn/4y+4inua14jjkF/7nBTsq6Ju7ezWUC/Y51L3wBvuhHHAPvttcLhUNXCVmS8e75aAcWxrNFsXn2ZLroGdm5dP09TZxeTx0YUqrhBqwcUsWtp4c3OSG7xNWI6QMUQWYRftGblZfMjRaLFZvcG5U1EZljSMaReHQ6fpxkzxCLD6IJaxXWLeYkRsT7sLPDT/tgbg9ImWkh4/mizeoFPaXuETALhkWReN7hlMwC7VxbcbUvL0Tg+lP5yWxNVlJG9hChmABnAvuBpRl7yQWVC4jiDwEehpb9LBu0dqwBgXIMfC3g2wuP1im/VJC6KKhUTLLupGesfRi0bttYjwV8vUhPVSy3uAS4Gq5gys+CLV5XUh7Sr8IseSb433dxv0w1pnrvbcfCuyHa0al8+C5STJb/BvcAkLkDax2T9EoxwEV65MIRGKgqYtmcg43++F3bS2wcEd2sUrn4j9nF8jyyvxCem9ZiXROwqLqHh/Ubv5LF7fdf9pWQc//VCCuF1iiMzeW06erS6Uj1OgQaw/8xCcO1wBC1NBC+PfcAnpxXqF8GkshW8flsjdEVtQSsDLhciNC+H8epYUQoiyirPzqNFMuU+ThwthdUEPbOd3/stCZab3oSfclXmZxmcKnDZeDKfIGxknGdA8Vd1NzkYWfHv7rNjaIWw0s6l2FNWJl9+HKDK0pI13PDsoxR8X6JAL+4r9ekCydbjsKnPTqgkL6eGUJ5dkOP3gEHV3ouPrV5Hjx3cKqXb7HTrPTK+jdZcX0Cp9r5T4jWuBoQV7mba+gf83Ol0EcqASQ97EsUAPYGk2MtIgothfwx8PfjRjzrFKndIian1jQiYjl0mHRkn5zET7SvCC98uo6cUvgvGY6cCchXXzib3T2jejS1C8PGtM79sqIShSV2wcrSuiTVaVyDTeOi6XfTE2Uvoh2qquVNqBifRKBdzzaGkDXjIqh305NoH7JVpq/wy7W65z08mYWXFNsLC4Q9bMHRtJfLkihpy5Po0cvThU/LMR/X5GTrd8yymSxORqrDofCx/3MrAJuAYSI3/euMxLo4iGREsVxzeho+tmYGLb02+/RhCsBHX+3jo+nJy9Lo2f42g62nD0g4gBr9khBhxxcJfBVP3VZKj1zhef8zT+vTKNLhjb1Zx9PUHF+tc7GrY9iSs+tplFdQ+neKYl0zsAoCgtGBJEq9fFExfokBO9U9/hgEcFfTooTq/kbbuajKY443OZSiw44RCi8tbSYirhpjrjjGBYcdCiN6RZK14+JpfMHR0rML6IgOAXjQC8sfIxpdTUXc/zZXN8xivLKkdGUEgUrutGaRGRDkd110MEZ2A/RIEZHlxHq15zm6cFatlr8JLoCYW681ZNm42LSwumOGLQUcF0bMqsoo8SF5Ix0eJv3p3Ej8KV9QPkj2gdl0ppyAfgbIx8XcKWOTk90+naNtdDt3MK6amSMXIda0ycGKtYnMRCE0V3D6D62js4bFEnljjrx2b7OLyVipE1qXG7xnX63ySZ+ZGNkoAHEEc16DLCAQCIipCUQAYLBF9jXW4DQebZmf5XE78IVYYIWwK6Cpj51+EnREfjqgqJD+qwRrWGkVyvhZd4gfURSYIAHoiagiKksOHBxIA9fbyiTa4F1b4KviPd+lcsFoY7NBe1IQQjh5D7hVGivow9XlEhrpDlwh3y4soTmcHlXVB+8xXMkYLAOxBX3D6GP3oIN3zPcG4ijR6ULcD82ZTv4eSimz7nVBFGGQN8yIV4GG0H4lRMHjbM+ycFtQfQD4oH7pVilkwjRF/A9IyQL9w0ais6kWVsrpCNuZ34N5dlqJSoEMc8zWOA2Z1fTxN7hEsJlbeZjBXUsDBhVuJct75KqWvlhp4UsfNPXl4krJtpqhOihgwxAKL5eXy5ChVGCGKwyY6ON5qRXSN4wglJ8vTaXCBBcCyYWNq3xuxY4ZmsOOg/raTfnH+nN5HMgPURgoGWASA0INjpeUXFgHwhUDl8frnHFHjv9sKVC8rm32EVjuSXRiS1LDLx5elYetziqpFJAHPPwzqEswC76bE0ZZZY4pexgte9lYUTe4Z+GuwXRHqhMED0CP/86rjyyy1Cx1EpFgnL+hvdPz62hvknB1INbQRBGRIYg8mLu9goZIIORpyizCE9H4zvLiiXOGuvhE0cllBDRGEaJFgf0eUMW4qSrZPg/OjtxXxBeODvdLqM++7IQo8JDK2PedjunVSsjHi8eGsXXY5XRmMqJh8ZZn2JAJGF1OVjshrH4APymBNwbiK2FGwLhcwDCiv3x8kKUJrFYQzhbAqI7e6uN1rPg1LuN4dg4rzXIT8QLYoBQN1hveOTQgfnBilIRJcRL17A16OfnFrGAVYdfjitlkYTowUrF4BFvYB0uYRGC+NVynvH0Ia/hLNLd4owOS3yaccHID8IR8VsYcAXB+rRaAqQc8OhidCYGD+E4uIGyypwiqAARMPBBw6eODrdZW8qpko+Dzx0j/WA5w42ASgbngK8XoOJDbDdGkaJCwcASiGUd5xOVx6A0q3QwRnKeAVoaSzl/GK4PkA+0CMy4dYzehFulns9hhPGFS5l6A/fRSq7E0IowBsr4c744ba6zsC/Sw8hJ3FPsi4ghuMlw/WZZKScmKtaKYDwGfuK/xug7iBJ+OhMWH0bPxbFgHM7igljhZ1LNY9EphWPRwQerrzno8IQ7AEPNWcfET464a4iUNwd7tBCPjfA3CDd/lSHVEDZY4QcTHlwm8ghrGfkN5IxBLFMiA0VMzbTM8mgEfm7TR26uN9bJN6xmmucVFRbKA/nEDyfh0iK4XDDQJpQVtPn+5nlMvLcfaps3qLzk9134OlGB4briwgLkXqBcDnaccmKjYq0oiuIDtGDvKIqiKCcaKtaKoig+gIq1oiiKD6BirSiK4gOoWCuKovgAKtaKoig+gIq1oiiKD6BirSiK4gOoWCuKovgAKtaKoig+gIq1oiiKD6BirSiK4gOoWCuKovgAKtaKoig+gIq1oiiKD6BirSiK4gOoWCuKovgAKtaKoig+gIr1qUp9PdVVVFBdaSnVlpRQnc1GbqfTs/HkwM3XWF9Z2XiN/IlrbONMdopyXNE5GE9RaouLqfi//6XanBwRr8D4eIo8/3wKHTnSs4fvU8cCXfrFF1STns5/1BEe9NibbybrkCHkFxho7KQoPoJa1qcgEGeIdeF//kMlH31EBS+/TCUffEA1O3YcOIW2D1OzezeVff01Fb//PhW8+ioV8nXW7NpF7tpazx6K4juoWJ+CoBVkSUmhzv/+N8XdcosINFwGJ5NQg5BBgyj5N7+h2JtukpYDrlFdIIqvomJ9ihIQEUFRF1xAURdfDPU+Kd1Y/lYrhZ91FkWccw4FxMR41iqKb6I+61MZvvX2pUtp5xlnUFCXLpT0u99R2OmnU73Z2RgQQAFRUWKFB0Ls+G8TdNY59+2juvLyBmvV0qkTBaWmyjZXXp507gWEh1NQ166GWPp7bAPeH+d37t9PtbxvfVWVVBioQALj4iQ9v6AgY18TPqbe4aDaggJJs47PTS6XUdHwvoGxscZxYWFNn0U+rnzOHMpiC7t661bq9vHHFH3JJVRbVCTpN3Sq8jH+FgtZhw0j/9BQY52inECoWJ/K8K2HWO9ggbaw2IWOHUv11dXk2LhROucgWiEDB1LkeeeJBR7Srx/5BwfLcRU//US5jzxClStWGC4UJu622yiSLdnKJUvI9v33IobB3bpJpx7cLYGJieTHgu3KySH7okVU8skn5Fi3jlxZWVIRBPfoQeETJlAUiynyYuH9TdycL/uyZVTyzjvk2LyZXNnZVFdWxlkxOkdDR4+m2Guvpcizz6YAvpYGWhJrvpa8J56goldflXNgH7wElqQk6jV7NlkHDDCOVZQTiIBHGM/3I6LMWUnzcjZRTZ2Lru05WcXaR3FmZooAwlJFh1x9RQUF9+pFISxYloQEcrKQ2ufOJVduLgX37CmCBsHFfhA6Pxb0erZ06+12Npz9yfbtt1TJogqhhbg79+6linnzRIQhxnXFxVTwwguU/ac/SWdfUOfOZB06VCx7hBLa588n+8KF5M8WciiiNjwWNqx0CLxt5kyx0IPYig/u3ZtCOK+wiqvXryfHhg2SBvKPPJrU7NlD5bNmUW1hIUVfdpmsK3juOarhlgH2Cxk8mMJGjJCKKQouk+ho2UdRTiRUrE9xTLGGdQk3QhxbwckPPkjxt99uWKlxceTMyKAqFmAQysJqukYip06liDPPJMeaNSK8EPQAq1V8xMm//z3F/+pXIrJul4vC2XoPYiu7+O23KZ+tWrgwECqYwo9f4r33imsC22s5P9Xp6WKVWwcNouDu3Q0XBYu2JTlZhDX6ooso7qabKPbnP6eYa66RiqVm506qXLlSxBrhh/BXmzSIdUGBuGTKvvySqlavJv+QEIqYMkXyABdQ9OWXUyCEWp9l5QREOxgVcQFA3CJYUBPvu4+sLIjwNVtY2CDesddfLy6RSrZs4bZogEUNlqnpR4N1HP/LX1La449TxFlnibgmP/AApT31FIVPnCiujKLXXiN3TY3sm/q3v4nFjbTh046+4AJKZJGHG8PFYo2wQtOn7Oa0AtmqR96QbhVb0uXffENl06eL71ziprnCgXWOdA5GybvvUvkPP4jFHnP11ZT27LMUPmmS/C3WeHsJNefleCwNUT3ttJjnk0iaNize58BALPO8R7U0Px8+27J4jm3IX0vLCYT6rE9l+NabPmt0DCb94Q+UcNddBwgW3Bg5f/0rOTZtotS//132Md0M8D9nsEBDAOPY0k3m/eCnbn4OvBDVmzfTDhbtOrudwkaNoji23rEf9pSHkPMDX3nRG2+Qk61hK+/T4/PPpePSzRZ61dq1EjdduXAhVfN2uF9wHCxkDHpBB2TCPfdQElcQQWlpOKOcs8FnvWWLsY7ThIXd+aWXpHXgBz98O4JOU/jUUdFIKXhesYZXrfkn03ybWXqynhes9T4XMLc1gO98bShr7+PN7wL/7X2uhnSB+d2zj8DfsW+T/OHeYh/PuoZzeT4F/oQmmHk0t8k65M/rHA37efYxP/GNBcr4m/HexzwPfzGOwcLfsb/sZe4LsI4X77TNfJnIOhzPzwJacXDDobMbBgI6rw/o8D4OqFifyvCtb4gGYfFKffhhirnhBuMF8KJq1SrKeeghEW2IdeJvf9uiWCeyICbef78RldH8eeC04HrYOWWKiDVoyZJteIl4Pazobm+/LW4OuDhyOe3KxYvl/HCRwEXjZpGGHxydonDXHE6s4ZeWSBW2wKPOO4/i776bIiZPJj+L5YC8tJVKLtNituBr8/M9azzgurwQAcEnL2bKLb2OLW2T4zx/y3k47+bfB90fX7zWgeb7yrnkWyPe5zHxTt+bA47nv7GXdzotnb95/uWb19/A3G5uk2eMP/E3vstxnvVNzuX57o2s897X8524heYXECDPA1p7eC/QByIuub59Rbh5R89Zji0q1qcyfOsbokHi4ymBhSuRrWtYFiYQQ9uMGZTLQo4OupS//Y3ibr21TWLtKiig7WPGSKclfMtRF154yAffwtY+Ijxg1RS+8grlPfkkhfTuTXF33knR558v2zEaEdEh+bwNVvchxXrrVnG9wI9e8vHH4q+HGybx17+WmHM/WOjtACoO2zffSAijYF5jC58N5dTsE+VrvpjYB4v87bWfeSzWH/Q8+OSlNftggRzgb3N/7+PMey77Nvs09zP3bdgGzOOAZ31LaZjfD7WPgM9m+5h/o5Pb+xhzPZAyxfXxJ9Y22Y/Xox+lvqbGCBH1tI7wrKKvA30ZiDhCP87xCu9UsT5Fgd+4escOsQL3/9//ic83jIU06fe/p7Bx48SqgKjB9VH8xhtU+tVXsh6dcWFjx4p1WpubK52KeU89RZXLl1P01VdT3PXXS/MRLwkslCAWV0RXyIvCTdCse+8VvzUiRVIee4xCR4ygwIQEsWTga5YYakSXsOXrHxkpESgI7ZNQuzffpMhp0yjtH/+QSBBY6Ig2sS9YQCUffijRIDFXXimhguhkxDXAn13+449U8Pzz8r07izQ6O8s++4zyn3lGriO4f39KYsHGZwCnCUv+qH87pG2v1UmB95U3iOJBPlvLUR/fgj41VExen0DOzd/x/KOjG+47hI2iZYhnG53aEVOnNgktPRaoWJ+K8C2HVZnNVnANix18wUDiqrmpFzZ+vAyCQTgfrEQHbw9MTpaoDTyooPidd6iCRRC/1le9bZv81gg6DRGKh1hseaFYgGNvvFHC5XBuPGo1vG82Vwi2WbOMtFj4cW5Y825YNHw+WKQQbGyHlYzzFb37LuX//e/iS5TOS7acsU/1zp1UX1IiFj6sIPi3Q1jgo9kiD2ULqPTTT6mCxRy/e4LBNxBrRJ7Us0W+hz8RDohoFZwvpE8f8ueKpcvLL0vnKCoc5RTHI494vu2LF1PpJ5+IgYL3AIZBAAyNY/ScaOjeKQqEDuFseBjRIWhlqxK/RudmaxVxzhj04li/np/SWmn+wfUBt4X8xobTKdsQroe7jk4YuDUg8P5eFimsaZwzhM8N4cYzguPhA0QECJqZ8IdXzJkjkSaoNBBmB6sa0SjwEYaytQ/LXKx1Ph9+JRCtAewPSxkdo1EXXSQhfugcwvmRFtJEvuD6cPP5IMbYJ+r886VSwb71iDSpqxOXCdxAEGe4QuASwWhKRZEKmxcYG2jloUWHZxTPH55JPPfHqvNRLetTFHGDsFUKyxj3DtYrhmpDQEUwWcylk4WberBwsUjsMu5zfb1YF07eF2Iu1gfW86dY1PwdjxVcCXi4Zai69/PB2xD1gU5DnKMeIxF5NQQ0gPOA0D0MvsHL0WC5sKi68vNF0NGRiAoDnT3oMIT4Y/i42aGHdC0syHCDuHhf+R1rPh55CGbrGedHRYJrR3w2ziX55e3+LNJSuRytG0Q5OeHnBIZK7uOPi9sO0U9wHzZ5vjsIFWvlQLweCVN8OwLz0Wt+9sOm6f3I6nOnHGPQqY34/oJnnxUXH35mQaJEOhivblpF8QAB9CwdWQnj3HL+Zsth0/TeX1GOMWh1YeSudfhwqoA7jluiTQyIDkLFWlEU5QiBJR1xxhnifsPPI+AH0DoaFWtFUZQ2EMqWNTq/HRBrm82ztuNQsVYURTlS/PzI0rkzBaemknPXLpmQuaNRsVYURWkD+E0aRB3h5w4QWdTRqFgriqK0Efiu4a9GKGxHo2KtKIrSRjCiVuL0McVcB6NirSiK0kYg1hgJq2KtKIpyAoOYa4yOld/W7mBUrBVFUdqKn58xAlcHxSiKoihAxVpRFMUHULFWFEXxAVSsFUVRfAAVa0VRFB9AxVpRFMUHULFWFEXxAVSsFUVRfAAVa0VRFB9AxVpRFMUHULE+BcHI2Lp2/imDsqo6qqypk8luO5p6TqTcUUcV1R3/ewy+BMq+yllPpXwvWgMmLEZZYlFOfFSsTyHq+eWsqK6jfcU1tDnH0W4/Z4DT/PqTTHp7aQnZWikUR0NBuYuenpVHz/6Yd0wqB1+hgiuw95cX0x0f7G9VuVS73LQtz0G7CmpE5I/Bz1soR4GK9SmCs85NGcUu+mB5Cd3+QSZ9sbaMX+ijfzvxgtezaVbBVnVJZR25OJ2OfOlx7ppaN1uP9VTpZMtQzUIBVnItNzRQLuVcIaNcDncfsN/HK0vpoRm59NW6MsosdZKTy1Y5MVGxPsmBuyOnzEVz0ivoz9NzaM62CnrogmR69KIU49fCmlEH4eWXuKDCRfnltVRkrxWrq7LGWLwFoIbVobiyVvarqSWys2AXVPDfvOTaXLIY2w7ursD54M4o5HSwbzF/QoxbAkKC9LCvmSfvtLBgGyxGiFdL4PogUvlsnSM9VDAtCRTygO24HqRllAn2r2VRdHvKqV7WwQV0MLcS78blYuyXx/lDeRr58+zgBSo6bEe6uDbvY7EO6WBdc5A2rgP7IZ9m3lE2eXydKBdsw/3xLpekSAv94ZxkunJkNM3caKNnZuXTol12yQOuUTmx8OOb16a7ss+eTw+t/pDKnVX01bQ/k59fS6++crzAXS2tqqWd3MT9bHWpuD2uHhVLV42IpkhrgGevpkCUtudV0/qsKn7Ba0UEQiz+1D3OIlZsTGgATesfQdYgo47fW1RDP22zUzZXBp+uLqEUfvlHdQujsGCc33isAvixuGZUDPVICCb/Zo9IZimLK1cK6zKrWMiM9EL53ANSg2l01zBKiAj07Gmwr9hJP2wppx35NbSERSWQT372gEj8SqWRHH+GB/vTuQMjqX9ycJNnEo+5zVFPuwprJD3z+iJD/GhgqpUGp1kpJSqQ8+gnZbeHr+2DFaUifuO6h4poZnD6OP/pfSMoIiSAFu+soKzSWooPD6Az+oZTv+QQCvC6SBy7p8hJGzg9XCvqrBC+pL6839BOVkqLDqKgwMb9Iaqfr7XRHs7jlH7h1DsphJbydWaXQTzrKYrv2xl9wmkQ59WCgvUAEUdLCde2JqNKyulnY2ON68fF8EcIp3NajzCa2CvcKK9mZLFV/eGKElq+t4pGdrHSeYOiqA+nHxbsJ2WitACXbdmXX1Luww9T6pNPUtRFF3k2dAwBjzCe70dEmbOS5uVsopo6F13bc7KK9QkELCgI2pf8Av93cTH1iA+ixy/rRJN6h1NwoH+LLyussSW7KumZH/NZhF2UHGURywuW7ly2xj9hwYcijuMXPlzE2PB5VrCI8SlZ4B2UFGGhoZ2tlMgiG8ViBnGJtvpTHxaniBCk25gwNOTZHwvo9UVFYgXGhVsolcUSIvndpnKxkEd2CW0iZtWsdmXczIfVB+GEsEOAoq2cHqeFJTYsgLrHB3PF0ij0EOpitjw/WVVKb3J54HtaVBBXWv60u9ApQrcjv5r6p1glv1C3ai6PzBIXvbWkmJbtqZSKqWtcMG3g6/ySBRXli2tOjAxkgaukLTnVNLa7UTa4Nljv33PF8tqCQhZRp5RlNFd2WSza320up6251Vw5WCieyyrQI/Cw8IvYcodropAt4e8222gbV549E4PJypUmKqjP15TRiK6hlMznM4sTlQCuCcYwWgw2ThuVmFH+RrnEhAVS59ggua8tgcpnfK8w6sWVKq53MT8LqKBQxmG8II/6ih9IdXo62efPp4ipUymkb1/P2o5BLeuTCDSj4XdcuruSvuFmLYTurjMSaAxbu4e7PftLnPTSvEJp5j91eRrF8cttHgPr8IWfCsSyvvvMBLYkvYXQ6Li88rU9NLxzKN15urH9cOnhuG83lbGIBbE1Hop6QHCyubtwh50e+zaP/nllGo1ulncch7w+zU12CMnTl6c2sWZbAuUC0UWZ3DI+js4ZGMHHmta/HwtwFf15ei6lxVjohWs6iTACRFVMeW6nWNMvXdeJBrCYr91fRT/77z4awpbxk5elckUYzNdho3eWldB9UxLo9D4RIrpY9z8W1gksgNeOjpHyBMj/xmwH/WuOkf/7piRS78SQhmvE9stf3UMruAK4gltBfzk/WVoY+Il7VMK3vb9f8vffm7vAYObjjAPxGsNfjcpvwY4K+ubunmIRH+4+tARaWD9uLZf8m60p3KNkvlcB6jhthMv8WFrWWvQnCXjJYR3+jUXuX3MK6ILBUfTqz7q0SqgBjseLH8RmMsLiKvmFNekeF0S/mhwv4gFLrSnuBsFoBCJ4aHDIBUOixSWQyeKLJvxutl7hnghmMYJAwt96IN7nPnw6AD57iOdVI6Pp7IGRIpJIH/nG51CuZP5xRar49beyhYyyMHBTGOfjmlGx4nrw57cFx8Klc/HQKOrFFi9cMaGmNe0wyiyX8w3fb9+kYLphbCzFsuCZID0I/W+mJnKl46L1mY5mPnouT/7/CM7Tn85L5laKxeOGcEvalw2LlgqDz+RZDLzvQeP31pVPc5DOJZzOc1eliWsIFefrC4sI/RiomJXjg4r1SQR8x3jxh/GLHhrkJx1FrX1hYUENTAmmXQXV9Dxb0fBffs/N9fls5aLpD2sZliXEyRtTGFoWi4NTy9buBhaqD1cU09ts9b6/vIQ+WlEq6c7YYBN/b2s4XFrQFrgo4LKBpTx/e4W4ISDeDQtb3Lu59QBXDVwAJrBmYbRHh+Kb5x+nF8RlEBcWIH97Y5b0Pj4X3B2o8BbttDdJD9Y90oMP21VbL24ORNJ4gzTO7BdOkeI6alyHBeUPd8fhGsTm/m3Fxc8RfPwpUUHUNTZI3Cy4J6rVxw8V65MEvJfT+kfSi9d2Fl/vF2tt9OqCIpq73S5+58OBTscLhkTRLybGS5gfhPrFeQX0r9n59I8f8+nNxUW0KbuqXaIE8MKvzqikx77JlQ5D2KPwlfZLNnzNaIY72zFcG2JYxq0FpPXRSq4Umi0fryqlj/lzYEqIiNNRaJwAPz467ODL/nhV87Q8C3+P4wqwK7daTJ/1iQCiXOBmQgXzxqIiWs6V17Wjo+nJy9LEXXM4l5PScahYn0RAZGDx3Xl6PP35/CRZB1/te2y1rt3vIIeXa8MbWGnoTEK42JUjokXwX7+hMz1zeRrdfWaiRC7AD/rxqjLKZev9aIHcP/l9vrgY0NR+5MIUuum0WLp6VAzdcXoc3XNmAiWEN3e3tB1YqGgZ/Pn8FHrvlm704S+6N1u60Ue/7C7LFSOiPEc1cqQWakSwn7hKfn5anKT3wa3N0zMWpHcz74NWTfuAkm1bZYoKFP0VC7kl8N4ytG7KKC0miMssmcskxtNB7NlZOS6oWJ+UuMVl8fdLU+jWCXG0u7CG3l1WzJZdqTS7mzdl0QEHP+g7S4vFVYDojsRICw1MDaGp/SPo3imJ4rdFaBlCAVtqCsM6bE2IF45F5TB3ewXdNileIje8geFucxixyC0B4YR119wdczCQJfjF8blqX6VYvR0NrOX4sEAJl0SZHSv8uVwsbegBrHbVS7jmhytK6dPVpdJ6uvuMBLpjchx1iUWnoqr0iYCK9UmI4a/km8v/O6tvOD12cQqN7hZKy/bYJXRtxkZbExGBMG7klxUhbEt2V8rfhiAbL6mztl4EHQEU3qF03qATDeFqCHlDJ5QhyoYQbMurEf80/NQmsKoxSMRMA/vC3742o4oFo0xixLF34xGN4NgYqz+Lep3EaZtpGelhCHW1xIvDnQK6xwXTOQMiaB5XEHPSy+U4w+/rWXgflMf09TbxzwNzvfc+fFWyDXj/jcrH+BvfiVKjgui0nmHiTvhqnU0GpDScBwvvh3U/bq0Qd5CZT+M8Rpy3uR8+TRrWyV8H3gf40hMiArgcDTeM931AhAp+ZmALVyC4TwCijIr8y3Vl9MHyUvmOjml0fg7vYpUYezxHyomBxlmf5OC+4KUblGqVJZtf4jVsRQfw+v4phsWJOF3EDcNPiU4kdCaVsIWN+GdYh4iSgO9ycCcrW9qRIpbNgQCs3FslIutgwUQHGgaf/LStQkQJ4jgoLUSsduhMQXmddF7i7/LqekrPrRZrG81v/FZFmQPDyevFPRMXHkARnKb5jGFACAaCrMowLNcargTQoYf0EBOOsDPs2z0+SAbw4DBYuwhrRPwwygAtCFzn5myHdCqi4w9i3jcpROKaM0pqxH20gPOIOgbZxiARxD9/weKG67Vy7YWKALHh8PFXOd3ihkI8M6I48MNWS/nce4uckl/EjqMSQXrwn+P6sR/i4FEJ7uDrns7nxjaMjizi/PVMCJY4Z4BRhjM32GgT5xn3IIGPRVy4WS6wgF2swyv3VUma+I57iNDEBTvtch9wzT0TgqQ8Ue6zufJaw+WIgUE3jIuV/g6jzIxzKofmWMZZq1ifAuDWoCUby01zjDDEyLlAtpIxyEO2sRZANDFoA4MttrNwI7IEoWXb86tZZFwSYXLxkCjxYzYH5+gUYxGRxrGw6vYUOmkHC1NhRR11YzHCyDsIk9mkHphmpZ28L8INC3gfiHUmCyQE8apRsTKwBhYh9u/N4om8mc8YWgwy6IV3QMgfKgaIE9Iu4cqiE18fBu904rya6WGwSv/kEKk00tnSz2CrN6esVganII4c4WoXDI6mqWyB45gCFjkILY7BoBIIJsoAxztrjWuGrxkDadAph1ZDkMVPBp1AfDHIBEKLmGhE2CANjETcUeDk63ZIeOKZ3OqZwpWf6bNGhQN3FFwPseGBYg0P72xtGHEKkXfwOlSaaO2gsjVi2o1rxAdCHnGtKBcMHIJ1v52vFyNEMWBoTPdQ6SiE2wodyaiox3UPo7P6RUgseGtcWUojOihGOeaYT4HDhSY0hoHXkotFCK4PREgkRwVSCCv6oW4z3BgZ3NSGNYcmNgQLo/SSIgPFkm9+LKxNCJmdLVILi0diZAB1jQ0Wy9l0MSA8rqU0kV+4WHI5rVybk8XSiA9OjbZQAgsYznGw4yDUYpFzfrEfRKwbC2Qwi60pVtjPyANycCCGw8JIw9zX3NNMF68WhrQjPhlCjQ5cC1vQUSH+IsgoH+88Gq+iee2e/PNXc5/GGGcjJe9jTbALXFZws6AlgWvEUHPcA9yLlkaw4piWzqUcBi64YzkoRsVaURSlLRxjsTacYYqiKMoJjYq1oiiKD6BirSiK4gOoWCuKovgAKtaKoig+gIq1oiiKD6BirSiK4gOoWCuKovgAKtaKoig+gIq1oiiKD6BirSiK4gOoWCuKovgAKtaKoig+gIr1KQZ+ZhO/Y4zfq27b7y0eCM7z+8+z6YPlJVTuaMeZbg8CZm1/bnY+vfBTQbtdw8mAvaaOPl1VSr/+JLNV5YKfUs0vd8lP1WoxnvioWJ9C4LeNMdPI+f/exWLHQudZf7TgPJgtZV+xUyqCjgS/6ItpsPBj/lmocDzrFYiv8VvdmJ6rNeWCSu9Zfg7u+jiTFmyvkN8HV05cVKxPcmBhYSYTzKJy23sZ9MysfLrj9AR6+MJkz0/lHwiOgQVuLvgbS3OwTvbh8/N/VIfvsq5x4f94P/z/4GAz9pC0jFUtYu6H68GP+hvpNk0T2w+VHPKC7U2v7cADjPUHX8x9zHMcCnM/7zRbAutbWryPO1ReG8ql4RjzO2/37OdNUqSF7puSSOO6h9Lj3+XRwzNzpRKU/Zvtqxx/dPKBkxzMqfjc7EL6ZHUJXTs6hm6bGE+JkYEyrVNLYDJZzGW4JadaZjbBVGAju1hlIlrc4pFdQ2V2FbCPrWnMI5hjq6UPVxTLRLFje4TJFFh4HlheKJA/rxgRRd3ig2VqseZgRplFO+20NadG5lzEjCYTeoVRr4Sms57jKcUUVbPTK2SG9QU7Kigo0J/OHRgp+TJnaQkNIprWP5L6eWY0bw7cNJiuC9N5YdqsTtGBNLlPhExL5j1LzF6+tv+tLZOZVSb3DpOywFyFmDHn7AERUgar9lXRxiyHzPV4Op8DU481B+W/PtMhE/HiHCj7sd1CqVdisOTfm7xyl0ywi/kdJ/UKp1Fc1pjkeF1mNbk4r72Sgujs/hEUFtw0HbgxMAky5q5cubeS9nIL5+bT4hquH2UTHEg0tnsYncb3x7tccK24B5gb8j8LCmljdjXdMDaGrhoZI/deOQRceMdy8gGdg/EkBC8gauCvN5TRDf/NoADWhNdv7EoXDYmS+QTNeQm9wTGYiPW+z7Loo5WlIqyYJ3D9/ip6a2kxvbGoSCaOhYCEhxhigUlnYYnZHPUy8Szm/8PUUYGcoGnZwRbAfIuYM7G5SDz4VQ796oP9NGtrhVjloXw8Zh9/Y2GRTPI7rLO14bnCR5mjVib2RfMdwo25I7vFBcu5TOvTwmljwlvM4egN8vLdZhvdwenN224XEcYs4LO22umZH/NlXkWImSnYuLYVe6vov4uLaC7vD18wBBoT485Jt9MWFrWX5xfKHIYzN9nEDYRKxhRg5Gnpbrv48j/mYwGucdHOShbFIvEVo0LxntoLkwNv5kry3WXF3Gogem95scxGH2kNpIqaOnqT78HMDeV03qBIrpQaj0NFisoVE+yiL6KsqlYmwHW7/RrKxZ9vaFq0hbrEWhrKFOArnof4CAtXQpEy2e97y0q4XMql4sScnNjudYjixbGcgxEvU5vYW5HnvnHeP92XzPqbu57bo8qJAe7F+swq9znP73QPeHiL+7tNZbzOs/Eg4JjMkhr3A19kua97Y487p8zp2WKwgc932X92u+/4IOOAbYCb37L90Zk57oJyl2ftoUGeXl9Y4P5hs61J/hzOOvf0daXucU9t53QrD8g78soWvfvOD/e77/9fpqR9OHDM1+vL3KMeT3f/Z36Bm61rzxYjH/O2lbu7/nGT+xHOf51XgiWVte4hj2519/jTZveinRVuFye2dFeFO/X3G93jn97mXpNhd7vYLP1iTYn70ld2u5fwNoBTsOUv61Cm2aU1sh4gL/O3l7tP/8d29x8+x7am5YljcVz0fevdU/+1w51RXONGjrC+tNLlnvSPHe7ffIrrrpdzeVNsr3U/+X2e+7x/72pVuRyMcket+6W5Be7BfO33fJzp3l1Q7a49mhOerHD5l37+uXvrwIHushkzPCs7DvVZnyTwvRRr7U/Tc+myV3bTWf0jadkDfencgVGHtYpgaaHz0VlHMvM1ZrmGJWoymC3jP5yTTNePiZXZtNsD5OmXkxJoKjfr0QyHSwILLFvMCh5j9aeMEpdn77aDcoGV/DpbpTeNi6VrR8dyC6CpZXl63wj65Lbu9Mr8ItrHLQU+xIMx6e/dZybS+J6wukn+HpBipZvHxcls54FsbUew5QtKKo0OukK2/GduLJPr+N3ZSTLhsAnKenLvCHr04hRanVFF67jlgutvBBPvEvWKD6b/3tRF3DNGbo283Dk5ji39Cv4ba40t7Y2kc0Y8zbyrh/QLXPbqHm5hFIsLqbFslGONivVJg5+4E75YW0Zn9o2kK4dHkVV8x57NhwH+1mRu9sL3+cLcAmLrnCqq6yXyAkI+umsoTeod3uCvPlogoog+gN/3rSXF9OQP+fT0rHxxEXy/pZyqa+tln6PHj9awKCLfEFe4TiqdbvElY4HroYJFCC6JvrzM2QYhNICvFy6kpMgA+S7/uEBDLH6UGh0of5sgq2x7ynf4jsuq6lnUQ8Sdg5A6pCNpcZrwzY/oEipCvCnHIT5nb5DGtWNipNI03TJYhwVuFnQitk/ZHBxcW0p0EF0/NpZiQwPp/eUltCO/Wlw5yvFBxfqkwU03suU47/5eFMoiffXre9maLGRrr1Ys1sMBYfgZOpZGRNFHK0voghd30aBHt9Lpz+6gOz7cT9PXl1Exn6s93lWco6Cilv7vw0y65o299N3mchG64EA/CTv7liuMInv7xWsXs8ULobnytT004OF0XrbSgEfSaSAv/fn7oMfS+VrTpVMRFRTK8miAT33lvkr6wxfZcn6khU/zu5k+fOHodKxrYlkfX3Bv4AOHD/7J7/PogS+y6PxBkTT9/3rQyK5hB+2YVjoeFeuTBLG8+DONraF/X9uJXrimE329vlxEe/6OConyOJQmwFqDBfXgecm04o/9aOWD/eiDW7vRXWckiBX30IwcenleEZXxeY4GnAvZeHhGHm3NddAMbmpPv7MHPXpRCv3hnCTJ96s3dKEusY2ug6MlxGK4d769pxftf2ogL4Mok5eGzycHUdbTxvf7pyVKWR4NaNEMTLHSi3wfcM7mi5kulr9dkiohdCcCGCSTV+6Uyvr29zMpp8zF96Ir/XZaEsWFN+0gVo49KtYnIXipTusZRj/c24tuOi2OHpmZS49+kyshZOVsOcJ68gaW3bY8h0QtoIluCSBpok/sFc7Hx9J/ftaFfjU5nveplqiP5scDvMetEzk/EWyEEj5xaRoNTgvldY0nxDe0BFB5tIThDjDSaw3Yt3t8MNmq6yQ8zeFsIfPtTKdoC4UF+9N2tubh9jhW4FrbYvji/sOvv2CHnR74Mod+2FJOD5yTSM9d1UlcOXAFKccfvQ0nKfB14sW9cWwMfcmWa6jFX4Yho6Mts9RJDm7qmqApPp+b5G8uLpIQMMMCbxRF+HtT2WKHAMGH3RKRIQHiymg+gBHnglUPMWgUeT8RCIgAzm+KPI5HJ+myPZVUZD/4cHj4gSOsATJiD35v03+LD5wX6SFWudaTmSFpVhrVJZSmr7dROgt2S24hB18XygX5bB1Gnk2884rKYXhnK23Iqqa52+xybnO7mVesy7W5qNhe26xianreIwFRgwjNRBngPjWmaZQtfOYoG1jQsp4XVCabcxyE4fv/nF0gfRMvX9eZpg1APHfr+zyUjkfjrE9ycF/CggJocp9wiVvGcPNvNtkoPiyAeiYYA0cwRBwdXTN4G15kRHygIwkdcSUsXpuzq2n6ujLphLxgMGK1jUEv3mCgCl76xAiL+J7h+4VfGtblV+vK2aqtYSs6hAIRos2HLttTJUOj0amHDsziyjraXeikt5cU0ztLS0RwMNgkOjRQ3ApBfE4TVB4Yao5oCgzAwSARiA58xRip+fX6Mok3hkvIFJyeCUEsnBW0Zn9VQ2wzfLM4JtdWKxEWf/82XyoQdEQirhlx5yiTtOhASosJlusvrHCJjx1x3KkxQVJJwc++cKedkqMs1CWO17FgxvN2dDRi0BDi1dEpiQqylMUyl/O2cGcFPf9TobiV+iQFk5X3wffdRU4pa+Q7MdJC0dbAhk7dPZzOci43VGZn9YuQckHFZRLob3RmIk0L19QxYYHSUiqqrJV4+B+3lkvrCrHwuBY7l9m3m8rptYXFFB4cSL8/O4nOHRTpKZ/G8lYOzrGMs1axPgXArcHABogXRvzhJUaYGULysA3ebrzU+4udYhlD7LaxuGKABgaBzNhQJgL+8/HxnpGBTe81/uyRECwjH/HyQzBXsZB+xaLz+doysdzPHxIpA1iMARZ+NKKLld5bVkqLd9lZeGtp1mabuEZgZd40Lk4s3MW7KqUC6M9Ncfh1zWRxjogQf8rg/H7D6cE9g9GF6ATFQCAbVxQTeoaLCJpCZ4zEDGUBrpY8Ia87uXL4jo//eFWJRIycNyiKbhkfJ+F461jUfvtZtuQVYpzLecTISJQT8oXrg/UKVxFC9TCABqMUg/hYRHogPeQblcEXa0tlOyqsn9Ir6OOVJbR6v4PGdAuj68bEUBJXcGARl8Xfvs1l0eZ7wRXZT2yVT+oVJgNWYAcjYgYDeyDscFkM4HuBQSxmuaAlhYoL5Y2oINw/LN9sLJc84LdbkLfhvCCfcIlhHUZf3jguhiskYwCM0nqOpVjrcPNTEOOWG24OE6xBTC0s1PTcGrF6Ha56iSzpnRgsw6PF4jJ2bxGIxMbsKtpb5BJXQ2wYjg2ReGNY1GYYGkAW4PJA1ERJVT2FsOXcja3SoZ2sbIliP8O3jeeqJf3A8WjWw3LfyQtixGHx900Koa58Hliy3umZwB2AIeK7WKjtLFZGGJ6FhnG6GJlpHGF0ghp5MCoj4y8DbDXXIw2cE38DrEPlh0+sQ0sFUSZwv2CkJ0QyMSKAhrL1DkHHOc3zY3+cpun9MWLPG7cZ2zEi0UirKdhWU0tcwVTTVr6PqFAwshStFNxHWOzN74OchD+9ViutgQvvWA43V7FWFEVpC8dYrLWDUVEUxQdQsVYURfEBVKwVRVF8ABVrRVEUH0DFWlEUxQdQsVYURfEBVKwVRVF8ABVrRVEUH0DFWlEUxQdQsVYURfEBVKwVRVF8ABVrRVEUH0DFWlEUxQdQsVYURfEBVKwVRVF8ABVrRVEUH6DtYu3mgzGDBX/FTBmKoihKx9FmsQ7w8ydrQDDV1teRo67Gs1ZRFEXpCNos1hb/QIqwhJCrvpYqa1WsFUVROpI2i3WgfwCFW6ws1nVU4XLIRJ2KoihKx9BmsbYGBFFaWLwIdaa98MBplhVFUZR2o81iHRIYRF3DE/ibm7bZstSyVo4p1XVOWlGwneZkr6dSp92ztnWsLdpN533/MA3/8l76vyX/Ibur2rNFUU5c2izWiASJC4mQJb00k9eoaa0cO3bYsunFLTPpgZXv0A+Za6jeXe/ZcmhgVECct/Hxm0r20e7yXKp116mxoZzwtFmsEbOXbI2lobE9+KHPkAdfUY4VeVWllF6WRXsr8infUeZZ2zpGJ/Sm+Rc+QduvfpXeOf0+irBYyY+ND0U5kWmzWOPhTrJG05mpQ6ikpoK+z1zN+q3WiXJscNbXUnWtUyxqI86/dWKL59YaGERdwhOoR2QypYTGShiqopzo+HHz76gUFs3Ix9d/RrtsOfT46BtpYvJAfm3USvFFUNkibj6zsohWFe6k3KoS+A2oMwvbiPheVOmq5vudR0PiulH3iCTPUcZxeIy2lmbSuuLdVFBdRqEBwTQwphuNSugl4mg+E9ivqKacPt29kBx1ThHKcYn9KC44gpYWplOxo4JigsNpJKc3NK67HOP9PGVUFND83E20IG8TfZuxmspdDpqaNpQmpQyQ1h7EGP/6R3em05L6UUxQuKyDqM/l4zZzCxDhpsgH1ocFhtDP+0yl0MBgTwoG2F7mrKRP9y6k8poqCgqwUN+oTtSTBX5p/lYqZgMlyhLG19ebhsR2F7cgqKqtodVcdquLdkpZgjPYoBmT0Ec64xflbaZt3CKo87htUrh1em7nkRQfEil/A6M8ifOaQetKdlFhdTkFcjn1jEylM1MGS17lKj1pKscJPCNffkm5Dz9MqU8+SVEXXeTZ0DEctVjjoVuUt0V8h334YXpi9M38csd7tiq+BET6P+nf0dvb51C5s0rurSEKRKlsgYLi6gp6cszNdEf/8+RvPD7bbdn0zIbP6bvMNWRjgTPtXH8WmEExXei5034pYoXYfAjROzt+oruW/EcsYohc1/BEcWtU17lkO9KEeP2i3zR6YMiVIvagsraa3kifRX9a9R7Vct4ghtgfYaQQfRwHUUa6vaNS6fnTbuOW32AR8Z3lOXTLghdobdEu/Clg/yRrFK269F+Snrf4wY/9xZ6ldMvC5yWfgX4BlBgaJRVWudMh6Zr5vKnPmZLPiCCrCPET6/9Hn+9ZInnBOVFevxl0CS3O20oPrfmQluVvk+MByuWViXdyOXWVv8F+eyH9ZfX79M3+VeTg1oO5L8qqU1g83TfoYil/pK+CfRw5xmId8Ajj+d4m8KgkW2MozBJC7++cR9v5Ye0f01ksJX2QfAMI7l57Pv1t7cf0WvoPEjvfJyqNLug8isYm9RGhyrAXUJ6jVKzhaWnD2BruKyKyhsXv9yvepm8yV4m4w9K8tOtYEbFcFuB9LDwQrkGxXdkaTxZRTQ6NoaigUBGtKhYjG1cM6Kg+v8tIsZIhtqgAdpRliwDCxwyCWOwTWFx78HnCLcGSH6R5RsogurrnRJqQ3J9bdgN46U9X95hIYxL7iIUPYvl5TAyNZus4lcYl9ZVz7a8slM87BpxnWKtezyu+J/H+wQGBtKV0P5XVVFIFi3R0UBid03k4TeF8Bvr7SyWA1gYqFAgv3oMY3gd/l9bYqcBhoympQyVvkRarXGff6DRjG7dAEkOi6KKuY8SliPLcZcul6+b+g+bmbJTKawC/Szf1PlPyYvrnF+RuJpe7libzdes7dnypTk8n+/z5FDF1KoX07etZ2zEcvVjzw2JhywYvEB7ED3fPp1lZaygmJJy6cVMZL4NyYmNni/XLvcvYOv5S7uG9gy6i1ybeTVf2mEDnsWDf3GeKWL8bS/ZJ8/+cTiNY8PpJVMXj6z6lb1moo4PD6eUJd9LfR91IF3QZTdf0nExXdB8v4XUQ+vk5m+m6XpNZsEJZgENpfFJ/seIRgndNz0k04+y/0nU9T+eKYLgsuY4SWlm4Q6zxq1h4YUUCiC5EOCTAQssKtrHlWcMW+Nn04NCr6CwWRfShYBnAFj1cHHg+zaUvV0AQuDNSBpPNVUlL8tOl8mhRrPkf1vWP7kJfcdlg//O4Mvn23Efoxt5n0dlcBqfzuVDRwGJGJyUqsUi+NrwLsIC3lGWK8YLrgVgj3BX5mpw8iNYV7ZbtEOuLuXKDWMOCv3nBv+S64Kr584ir6O3J94mb5IpuE7gcJtDM/SulAki3Zcq1pIXGNcm3cmw5lmLdbj0r4WxR3NR7ijxc8BPetuBFOu+Hh+mFzTNoY/FeKndVyYtZw9YCOodgvTnrapsseEBbWtd8fWv3M9c3X3ek61t77tbuZ6470vXN/zb9nkcLXBCzs9aJHE5gEb1n4EVi0TbArXBYjRA5uDVMN9cqFtPNpRmSn98PuVxExXRZAHTgPTHmJrayo0R84WOG+8KbALZOh7DVDUvbJJiFuHNYArnq6sQdcyKA1gXyhMrMxMpinsDXBncHKrxSZ6VnS9uA6MPvj3sLy/3/+l/I5RPAf9exJV0nFcBL4+8Ucbaxpf/Klu/EGldODY7aZ90S8FvOzl5Pb26bJR1VNfzwwTcIiwPN4+jgMLFE8AIobQOW30VdxtDw+J4ibkfDmsJddMP8f1IJN83vZCvzoeHXiivicPybK+J/bPxSfKlvcSUN/3Dz42Atjpn+W9pQslea8xAbWMX1LDJdP75VIokeG/kzun/IZXJNeBxhvT+3aTo9tf5zcYvMOv8x2ebNN2xhop8ku7KYHhpxnfhxW5NngDReSf+WHlnzsbT81l/xb4oPbuqzBhBCWLHnfPeQuIluYov636fd3rAfXBKI9UY+0dp4acId0vGK8+N6H1n7MX29bzk9M+YW+v3Qy+UYgDK5c/HL3ApdQIPYcn9j8j3is35v11z644p3xT0CKx0duc3fEQj3W9vnyDs2kCvOtZe/oNEsxwu+jz7VwXgwYG3Ais6wF4oFtrpol0SOQBDwoMH/h06cI0VeaP53on22lebHH+x8zdODMD0+6ia6ssd4ae4fDfA7/2zus9zUr6K7B1xADw67WgS4ORAZWH3IgyUggF7e8m2DWL8x6R5xPzQXDljdk2Y+QGuLd9Nl3cbRu2f8Vn6qAK2CU12sP9g1nwazSJti/cGueXJNOG+Qv0Xci0jLvOcmZidqp9A42nTlyy3eK+UYwPfxpBBrxXfYWraf7l7yKq0s2EnX9JhIL4y/XX6kyxuIBYRxbs4GigoKo9NTBksY2kOrP5TBKU+MvoluZjGDT9kUM0RroBPxmrlPi+g9P/6XdHu/80Qgj1asv8tcTX9kYdtvL2KxvraJWOMccLXBGECro7l1iu0dLdYbS/fRw6s/oq8zltNTY24WNxHyB6FFp+o9S1+lz/YsbiLW8KH/fMHztK8in88HP/cAaYW0BMoD/vFb+047oGyUYwTf52Mp1tp+UigpJIbOThsh3+ezAL+xbZaEj0GMIJz43FKyn/69eSbdv/wt+uemr2gjW47jE/vT6IQ+Inj/ZtH6fO8SEbXCapvEaKOj7Hcr35JwP3RQIg0IZ1F1uUQ9uNjqhpWJ/dECQ4wyfLM5fCxaYBDLqjonZbIgI2TO265AhxwGtkCQkcc8ziPOi3QRofHF3qX0LxZ8dOShhQe//C5u2WGYOrYjdhmVCVoKiLLAOizIF/pXkC90HqJzFH0tdfX1VMZ5QgSJ3eWQdSiXkmq77IuwQqSNbdDOEP+ghnho4/y5Er2yw5ZD/+GKAsKMcyDiA9eLax8e14NGxRtx6YiGGRLbjS7vNl46NG/sdRZd2/N0urL7RLqk6zi6sMsYqSC8y0Q5uVHLWpEXHj/G9dfVH0hfQ21dHXWLSJRwu0RrlAjd2qI9IipBAYES1fHbwZdSr4gUidh4ki1LDFSB+CHUDNZiAQvwUraqESeMUL1HR1wvUR84HnHSz2z4QkQOQNCQ3luT76Wu/Hn1nKdoTfFuyRea+ENZxJ4e83Oamjq0wapFWODzm7+m/2z9TqzPsYl9KS0sVmLFt5RkspCWykCWvwy7RqzP3654k/7HlizyczBwbpzrtQl3Syjgm9t/pN8se1MEHSAvCGn859hfSD5/s+wNmsMtDfMVgo/54RHX0aUspghxfJErN7iJcH0IF4SVjx+RgsjD92x2ECeFRNM7Z9wnHbioUO5Z+hqtKthBdVQvFvfoxN5sVfkZ4ZNVZVIpoDMTIYszzn5I3SDHC77vPhVnrfg+ECl0/Eo8Mz+AsCwR3QBxgIsDIg1BgHWM+OU7+59PfSLTRIQQoQAxhVzgGFi3sCLhPkAzfVxiHxkUcl7nkWKBA1QM+Sw6KSziqaFxlBoWRz0iksRSRAggRkEiZA8DcTAcHCMHESbXyWuwFaKPEPZWXe+UiiGLRXo7W62w4iGKvSJTJHQQ4W44Dj5kCHUiW+RIF+c1F8kDf6JSQSgcolp6RaWIiwVWMdabx+C88M1jlKU5EtE8T9/oThJNg3hyVBSIFEH0Sy5XHGipSGXH14URjwhrhesFLQRUVOd2GsmVTZykhYoHsy9hxGNpTaWks60sW8oUrQREofTm/E0TV0l/uQ/K8eFYhu6pZa00AW6FLHsxbSnNEOF11rvY2gwSUYFVCXHGiMGWgKikl2XKT5YGsyj1ikyVIeM4vqPAkHCkuYcrCIhxTHAE5zFOhBMDWI43EFz8yNnO8mwKYPu4B4v9QLaWvUMVWwKv5Va+rm2e8gThgSF8TRFcscRQn+i0Di1XpRUcY8taxVo5AHkk2FgzH42GjjesPkST2zzO/A6L71D7txdmpISk6UnvRLI2kS/8O9K8meUpn0xr74NyjOD7oh2MynEFQoB/iF7AYvzF/w4jEOZx+CfHHSNBaZKm59+JBMqhLXlr631QTk5UrBVFUXwAFWtFURQfQMVaURTFB1CxVhRF8QFUrBVFUXwAFWtFURQfQMVaURTFB1CxVhRF8QFUrBVFUXwAFWtFURQfQMVaURTFB1CxVhRF8QFUrBVFUXwAFWtFURQfQMVaURTFB1CxVhRF8QFUrBVFUXwAFWtFURQfQMVaURTFB1CxVhRF8QFUrBVFUXwAFWtFURQfQMVaURTFB1CxVo4at5sXz+ex4nik6Qu0pVzcWog+gYr1KQZeTFedm7JKXe32krr5332fZtK7y4qpvLrOs7bjKKyopX/8mE/P8oK0FQN7TT19tLKE7vggo1Xlgucgv9zF96xeBdsHULE+BcCLiFexptZNX6+30dnP76Tn5hSQn5+fscNRIOfmk2eWOCmrzEVOTqMjX3yc2+FyU0axkwpYtDswKZ/DWVsvlXBWmVEuhyubIrtR6d35YSbN32HncoVoezYqJxwq1qcAbvKjbbnVdPPb++iJ7/Po12cl0hOXpni2towhwq0RXkPwkUZ9vSkQfvJpLK17+1uXFuB03Cwq/M3c3UjHXDwrD0Pr0zs0rU+v7Wm25jjj/Lzw9/r6xn0b1rdwfHKkhf5wTjJN6h1Oj87MpQe/zKHdhTWyv3Li4cc3UW/NSYi8oPzPzk3cZ2cX0qerS+jGsbH0q8nxFBsWSAEtVNP1fJDNUUfrMh20JaeaKrlZHRsaQCO7WsWa9eN/Y7qHkiXAEOh9RTU0jy2ybLaoP+bmd2p0EI3pFkphwQGyHWDXq0ZGU7f4YPL3MuRFgPh8tdwUX7jTTulcmaAZnxxloQm9Qql3YghvbQqs6Vlby2lXgZMW7bJTIF/DOQOjeD8+k6eVEBbkT2cPiKD+KSHyt4nxmPuJm2YxH5ueV0M1bEl2jrGIWHWJNfKH02DXvcU19MmqMgoK9KMz+4Rz3upodYaDBS6Qzh0YSRZOfMWeStqU7aDu8UF0Rt8IirYGyPEmSLGcy3M9l+eGLIeUZyIfP5bLqFdiMAXzObz3z7O56Etu+ZRV1dHk3mE0mvdburuK1u6vIhe3WHolBXPaEXyNTdPBPftqXRntLnLSqr2VkvcbxsbxPW7cKcTix+mGcdmGedYY4Fqh7bsKqunFuQW0lvN602mxdNWIGHlOvNNRmsGFV/bll5T78MOU+uSTFHXRRZ4NHUPAI4znu3KSgBcQQvHl2jK6+vW9LAp+9N4t3eiiIVEUGuRH/t6q6cV6FpS7Ps6iD5aXUCCrLIQKwv36omJ6bWGRiDkEJCLEEONSFpU9LBA2Rz1tznFQOAtlSlSQiASEGPkAA1KDKabZi49N9/8vm37xbgb9wAIMwQhnkf+RvyOtIE5/RJfQhmMgtmWczs6CGmm+Q7ixrQdXAkgHxyPNQM4ahDA+HILWmCDS+3ZTOd3K6c3dZhfxgsvmu80V0tpwcqVxWo8wT4XiJ9e2cm8Vvbm4iGZtKRdfcLAlQM7x/eZyFulqeml+AdVxa2LGBpuIHUQfAmyyaEcF/eazLDkWp+UkaAFXbi/OLaRcFmZUKFEs8CZ2p1vK8Z2lRVTL531rSTG9wWWBsqvgSgbl8tU6G104JFLKyqSaK9KtXNkVV9ZJxQmxH5wW2qRccE86xQRx5RTU5D7gO645PjyQzhsURV1jg+i/i4vpO77OZL6XqJzMylk5kOr0dLLPn08RU6dSSN++nrUdBCxr5eSgjtu/bC26V+61uy96abd71OPp7h8229y1dfVu3nRIskqd7ge+yHJf/+Yed3ZpDR/jluOwbMxyuK96bbf77o/3u3PLnJ4j3HJO3ux21da7L3l5l/uRmTnuPJtTjsF6Y2k5baz77+JC96wtyJ9xDhxXWVPn/np9mXvcU9vcG7KqPHsbGOnVu/cUVrvv+GC/+7efZcpxjWkZ+zRPD39PX1fmPu2p7e7XFhS6SytrJU3sj+Pnby939/nrFvdDX2dLHsxjiu0u99DHtrp7/2Wze/GuCinbJfyZ9odN7kn/2O5eu7/SXe2qc3++pkSuH9sA8jh3W7n78v/sdv9leranPI3rQ7oLd1S4pz63w/37/2W6M0tqOK3GNJH8pa/sdsf+ZoP7vH/vdO8rqpZjcGxppct9xj93uu/9JLPJNRrH1bsLK1zux7/NdZ/z/M6G8sT5sGB372MOBs5TVlUr5TTmiW3uX3Na6bkOvva6Vh1/SsEFUvr55+6tAwe6y2bM8KzsONRnfRKBZvSfv86h697cR6dz033ub3vT2QMiG5r3B4OfA+l8dLE11zMhhJu/FqwVawzLoNQQ+t3ZyXTd6FiKYwvMBOfEaWGpN3znLzgGaRqLsa05WHfL+Hia0i+SrVO3WJ2ITsCxcCvEhgaK9Wxa58A7DfnO/0PajWl59uHFm+JKF73BFvL1Y6LpmtExYs3CDYT90YKARfz+LV3pNW5B7OM0Ac6BdGDB3nVGElvd4WJhRnKrYgBbxDeNi6VhnUK5BeBPkVa0GvyopJILkEHH57ebbFyWwfSbqUniHjLLEmlO7BVOD1+UIi4HuEhgRQPJOz75X28+9rWfdaEuccGevPpJi+b2ibE0f3uFtHLMsjHzKgsnIH9LWo1lI+fF/w4DjokM8afbJ8fTF3d0F/83WmdoYVTU1DW5H8qxRcX6JAI9+miyn947gs4bGCEvKThc1Ae2w9+aGhVIP/Dxz/9UQMv3VoroIEwOft4haSE0rkejv9rEPPXh0mgOxMbm8R9DCJ6elU//nF1Iry4oou82l1OVE8JwOGU4vHLgFOv2O6Qs+iaFSMRDob1WQtYal1rqzM1/VBJz0iuaCBKEMj4c8mmA64RbCe4B42/5kGNwTWB3gZNKq+rlfEZ4XC3ledJCmWLplRhCSZEW2pxTLT7nprjpypHRhs/YswbpIO2gQH+p2A6FeS/MvB0pOB4VaDRXmFdwPhIiAsX9sqfQKW4V5figYn0ScR1bjbPu7cWWnj/d8u5+tiaLRRjgmz0csWEBYjlfOSKavlhbKtbUqMfT6dx/76J7PsmirzfYxFd8WP1sJbllLrrn40zO5z6a7RHIYIsf7S2qoVmbkVb7xWsXVdbRLhaam97JoDFPbufr2kajn9jesIzldVhyOE9VTo+Z68WRVkTFlbW0OqOSHpqRy+dHWttoTEN6/P1J/L1NKioHV0rwezdidJYaSR57ZcR9QBmgbwBhfYgSOX9QJH32qx40rLNVKi/l+KBFfxKBlxzhWP+8Ko1euKYT/cQiePPbe9laLBehrWWz6GDWKizACG7+3j8tkRb9vi8t/UNf+uiX3em+KQlkZRF9hi1fWL0lLERHA9KHBfrIzDxxOUy/swd9/qvu9NcLkum3UxM5753opeu7SJRGexEa5E892cr96o4etPvvA2nPEwdZHh9E9/L1Hi1WTm9gipX+dXUn2v34genIOlkG0cMXpVIiW67tR9sE3nSFZZY66cMVpfSbz7Klo/Ll6ztLqCdaXsrxRcX6JAMWGfyO43qE0Yy7etIN4+LoKRbax7/Lo9X7qiSiojlo8m7Lq5ZQNVhViJToGhckvtUb+fgXrulMt06Io+35NbQlt1qsr+bAEGydBYooET/6bE0pPXZxikQtePu4cYparjgO1dw2rtHzx2FxU3e+lkq+rh351dLKCOSDW1pM33CrLuMQoKIJ54pvB5epg9NtKS34yo30jOtpD4xyOfKTwbJHJMncbeX05+k5UrnfPy2BnroslQZwpQPXV3vlUWk7KtYnMXjBrh8TS5/e1o3iwgLpL1/n0uuLiqSJi7hhEwj0op12+u+SQglJMy1wc8F5cDwsVMQmtwQ67SCyxrHGOnxiHYQA7hjTpwsBNSxs+Sb7YYFoZJc5acGOCmkJePaUTxNUCLBcw4M5Lyy8ptvCzCvShxsCLQC0FsDgNCuN7R5KMzeW08ZsB1V7jdQzjiOJ8Ua5IJ/4W9bLHqhc8J3/aiJYTdULx5jrunHlMKKzlTblVIuLB2Vt5g/gA/neW+SUED4znwae9GTfpmmAg6wWIKrRobgP9RLqh33Nc6Fs4RtHudZ4ejRxPxCiuCajkl74qYBeW1hM43uG0YvXdaYp/SOlnJUTB42zPsmB0CKKAIMhhnSy0nebbNKBB/HtlRAi22FtIr53xoZyeZFjQgOpjq1fDOIoqqyXAR2IJY7n5jr8l1EsCN5AyND5BKsbnWLoBMNgEHSqbWNrHJ1Tu3n7EBZNxEEj0ZX7KkWseiUEk5PrDYjIdrZ8311aLM1wiC6se0RfoJLwjl+28NccG/zCVdLZFxoUQBWcV3TkYXDNDBZlRMYgrhgDdHCNiMdeuLNCjkGsOUB8MtLFEO3ZbE0+82MBhXA6QzuHcP7rad3+Kvpmo41Soi0SPw6/PjpcjfILkDjkGC4LjPrDwJ74iADpqET5JURYuEyqad72Cr5mf26t+MvAIlQkiIXG/i/PLxJR7ZMUItdY7CkD9A9AKFGWuE+Id4fg7uSyXLa3klbwglYPBgDhvCaw1KucbonlxhWiAq3iiqmgok4qIgwowmCnVM43tuH+4vreWlLCfweKGwrRQ3hejBJSDsexjLNWsT5FQPMY/uyzB0ZK+B1+vGcQi6e5Dc31ggqXhHwhIgRuEYzyg4jN3lrBYmWRcDUIS0v0YNGFEKAJvbPASWv3O6RiQAgbLEeIPMQXLg8wsmsofb6mjJbtsVM2Cy/866gQ4B646bQ4yQ/OsYNFpl9yCCVy3k1wDohNNovsnG12EbgNWdUykONHTr+GRXECixlC58zolWgWPQyyQd5mskChBYFOxx/5Wr9ab5NrvWBwFN0wLkbysJWv/+EZuRTCgphZ4uJKq5bO6hshggvBR8WESg4DaWCdYkAR3Czw7w/rHCoWLga9oJxRBjgGgjmfWw3TOT2UFY69elSM3BcAEf7XT4VUzRUmLPwlu+w0qVeEERXC9wjW77ztdjn3st2VNCA1RCokE9xHs8XxDaeJa0rPreH7aZOBPIhGGdmVK+20EApmka/gvKHiQJjn9WNj5R6b90dpHcdSrHW4udIEWHqwTjNYoGB5wgrtmRBEvVmkYckdCjTtN2c7ZFQjRgTC+sSwcQi5l2HcAKzUVWxhF7P1HhxIEuoG69/bij4UsAx3FFSLxeli6xxRMH2TgqVSONg58LgjXA7CieNhmaex4A3rxNfnNSqwvYAbCB2pKFMbiyNGZiZFBohrBiLcEaB1hFbLFm4toXLBfeuBe8j3Aha80k7ws3Qsh5urWCsHIE8EDCyvJwOuhNZgPE68c8PxRihaSzTs60Vr0zFpa16bH3ek6R4JTa7Tk2ZHpgfaWi7KEcCFfCzFWqtZ5QDwUuO9lk/P0logzE2PP/jBDft6LUeKHGd+HsE5mh/XkTS5TvnbWN+ReKdlLopvo2KtKIriA6hYK4qi+AAq1oqiKD6AirWiKIoPoGKtKIriA6hYK4qi+AAq1oqiKD6AirWiKIoPoGKtKIriA6hYK4qi+AAq1oqiKD6AirXSbhzL3wRDWscwOZ/hWN4D5diiYn2KgXcZP+yPH91vrxcbZ/nPgkKZFcWcuaUjwYwnn68tk4l9VZoawW+A4/eu/z23oFXlgp9vLa2qlZ+KVY0/8VGxPoXAJADL99jpj1/myGwsxu+yHR2mhQuRWLu/ihwyZVbHvfk4NWahWbKrklZlVFE95gZTpMwxacH6zCqaw5UmyuVwt8FWXSfPwXNz8mW6M/wOdgfeOuUoUbE+BcBce/tLnPTU93n0rzkFlBZtoTP7hh/yZzPx0hqLMYffwTGmnEJF4KxFWua6xuNbg5GO54/DUMc7YnIDzCsIjHQ6Lj1j35Z3bv05zOXQB7S03Tz20PixQJNMkeY9p6N5bEvHY1KCUV1D5fu/WLDfWFREOTZnK9JSjgc6+cBJinFb/cTS/XR1mUwt1SM+iKb2j5BppxIjDpylBIdgFvCdBdW0r8jJlppb5kDskxTcMFEuptjCtFcA8xyuz6oWl8oLP+VTt7hgmsLnj/DMewjwgWmjkqMCD5h5G+lBeDdmOSij2CWWIeY0HJQawhVK0AGVCeZYxMwymIlm5sYyCgrwp+vGxPJ5je04H2ZmH90tlLrENk53ZYLtMptNDqdX4iIXX19CRIDMDZkYGch5NX53GmWXx2mhtYCZyId1tpKDVXBHgZPz509juodRAO+I2d73FNZQMh87lPfB3IXemOlhjkbMQYl7EW31l+m4cH04t/c1YpLfRdxigFsCU2/15bLG9F+Y1QYz0KdyJTuaxbX5RLa4Z4t3VvI1OWXOx/RcB90/LUnK2zw/pjfrnxzcMJWbCYQdc2Wu4VYKLHK4Ui4dHk2n9w435mJsdg8UL/gGH8vJB3QOxpMU1glazC/+X2fkUlZJDV07OpYuGholwuQtpt7sYlF59sd8mRuxpKqO7NX1tC7TIZOqfra6VKaIwrRb5tRQhSzSG7KqRPgwuSzEJywogMXDmDUb/lCbo55FJ1gmkfVOE0L2yoIisfZ/3FrB56oTMcNEskgvLNhfpqHyPgaVwlrODybnhYC5WMBw3rKqek96dSKOXeKCWISbVkZIb9meSnqC0/tpm53Kq+tkWrH5O+xcmZXydj8ayCJqzEHoJ3MgztlWQR+vLBEhm7mpXMQUAr6B8wABfmtJMeVX1IlA4lxDuRI053wEm7Id9MLcAvpibRnn3UXFfI1LOQ/T19nEBdEtPliu0wTrlu2poo84TbRQkP77y4ul0swudYqfftW+Kpn82Oo1UW4VizsmIEYltpvLBfelc2ywp0yMssHs7fHhgVyJWbhMG/NozmeJqdAGpFilTFH+G7KrZQJgTNir8zIeHJ2DUWkTuJPcYBcr7rWFRTLv3wWDI+msfhFs9QY1mQm7ORCbd5YWix/4tolx/PIGy6za1SygmLPwP/MLxcJ+6MJkmekbYI7GMhbkGrbOfvXBfhrIL/uN42JlFnAgosCZgkgg7eZijY4wzMg9trthxcEqLhXr0i5W3r+u7iST3pogLxAezGn4CucHgvWn85MbLGuA80HAm881uJjP+dzsAhrKlQ1aF0mRFvLnXVAhQcQhvLdPiqdb+dpxOliYEORr39wnrYoHz0umcT3CpFLCRLo9E4PplvGxMpci8rp0dyXvkyStFlwbZoSHWwH5uXhotFj6+I4KacXeKvpqbam0Qm4YG8flg8rTTybgRYX0i/cyZA5FzEn567MSqBdXWrhGTG775+m5dMnQSLGczfJEhzEqAlQwH64olvO//fOuTcoF3yNZlCO4cvAW6+agfHdxy2pOul0qAMyifu2oaG4Z6WS6B8A3Wi1rpU3Akn1rSYlYx93Zartjchyd0SdCmtzeFl9LYOZrWI1wj9x0WqxYptHWQBFaCH18hIVFg5vRqdaGc8EdgklmI0L86Su2FuEGQcWAWbJhrcGFAoGwsOg31wf8DSHGjOPdWJTiWLBwTCKnA2GHtd03KUT2MY9FeuGcHlwnqzMcFM7nv2JEtOQTx0qaSK/ZtaJD8vHv88WtgBnaB/I1YIZ3iDpEuzdXQrGhAfQMl9tlw6Kk4sB8u0H8P1jF5w+Kol+dHk+pXI54QeGqOHtAJN14WpxcK1oPK9nixWS9aA3gPny4okTcE3eekUDDWcBRnkgP19eLrwnX+PUGG+8fLEIOlwXEENeHNBHx8tTlaTSxdwQlePKaGhUoYo+y/vn4OLk2lA2Ohf8Zed6aW8Oi7qQ7Ob/e5YIFkwgfSqgBKsDkyCCZmb073/fFXAnBjYbKD/k83HN0qnEsLWu+vcrJwk/cbH6drbkEFoTrx8SIlYeX9DDvp4DmeJTVXyxQNLfhQ4aVDjPTGuTH1mg4TWOBam6d49wQACMNo5FmrGtcWgLWJyzwPFstfb3exlZoCb25uFjShqsDgozohANxi2+54TsncKi00HCEOwLih4qkUwxbuCw4yKm5hPO1XzjEEOkFOyslb3Je3gZxgnCJ64j/DmTzGGXaLzmYQrksTJHFMZhhHcAqzuHrgq8bYhyIhgYO5gVlikrmwiHRIsCwwMvZuvcG13EpVxrwg2P2dfPakHYqt2rK+FqaN4iNffh/8h3HHLpcDgVaAKikx/cKk8qroMIlLSu0NOA7V44PKtYnEbD2XruhC1tHfnTPx5lsgSEOGZEMnh0OQXy4RazUkV1D2TIvoGnP76SRj2+j8/+9i/70VS43/x3ysBzpi38w4Ft+aEYuXfHaHvrvkmLaVVhNOWW1NH87/LQl0pnYPvixpVkrnaY3v72Phv4tnQY+spUGPdq4DH4sncY+tZ225DhEaJviZvFqJoy8wIo9GLk2F63YW0mPzMyT9AY9aqRppIu/t3J62+i7zTbKLHWKe6cRIy1UnOjEbA5WteZ+Hg04P1oH/13MrbTZBeIKeebKTtJqaN5JrBw7VKxPImDxIRLimSvS6P+4+f3KgmK6+rW9Ev2A9xsv4cG6KPz93NQnKYT+ekEKff6r7vTWzV3pd9OSJCpgR341/e7zbHp7abFEKhwNSB85+OfsfIlQefryVHqdK5g/nptMvz4rnh67JJUeuzhFIizaC7hau8YG07+v7Uzf3tOTZt7Vk765u3H59u5esn7DX/tzucV7jmrEtFhbCyxtuI7+eG4Sn79XQ3r49F5W/amfXDfcHN6YljGXlrHiiGjLMQZ4NNCawX35+TsZUuH8/uxEXpIkQgd9CqrVxw8V65MMRGTAP3oRN+shuuN6htENb+2jR2fmSgeUYRc2BQKaWVpLP2wpp9AgP+qREETje4bTlSNj6J6zEuml6zrTxUOjaPneKgklO4jetxLEA7vp1YVF9BBXDNP6R4rfFz7j2DDDRw7xsqAt3i64KS3GItEfyHcqp9UjIVh8+t3jjE8Iq/k9upVuo0OB64EPucpZR2lRgdJRiHMjXe8FaSLawgyFPHqOTqjRsrjn4yx6aV4hXT0ymp7iivT0PhFyT7Rz8fijYn2SgkgOvGT/d3oCfXhrNxHqC1/aTe8tR1gYXCONLzZC7X7cauOXtID2l7jEqgtgSxv+Uoh3Elu5CNkLYlEptLs8RzUF/ltUFN5uF3x6L96UVNZR51iL4c/1gH0QeYFoBIS6ybpmAoS84dqMWGNjQA4Qi10WHNOYHvbHwA/4jr9aVybx08YO2IqdzR2ND/NPYHw10pB8NNEr/sPrb+M4YwU6YuHnRlTGmv0OXsvrsQMvsgf2NU7e7JzAk56c8ICNRjoHrhbg00aHb5Oy8P7O++DTG/xdWOGi538qoLs/yZJ4eLRAUFEnR1rEZ6/W9ImBivVJDnrxB6ZZ6dkr0+jxS1Po7SVFdMGLuyXUzHxxId4IVduUXc1iXkylLKSNL7af+GDnpJeLSED0jNfeG7Zeoy20o6CGRbie/8I/rDVC+95fUSLWGtLAWggozoOORaRh7O8W6/fl+QV0+weZUoEgX4Z4IY1GMHCmM1vLe4pqpIPOzCdUBbHQiMT4ZBX83obgQ3DunZIgfusnvsuT46SfDCrEC74u3WWnaS/sEtHC32aSjaLpLaKePJvf8cm7GOtQ5n7SYQm3wT9+zKfVGVVGWryTVJT8bU1GpbR4kB8znzjWOKMnPc/5gGyT7cY6WY/dvEC6iJ5BByTi1Y2UjOur4LL9fpON/sv3HwN5kGcjsqSUfvbfDMnj3y9OoQfOSZLoGLNjUzlx0DjrUwgIlM1RKyFjEOT7piTKCwk/5Uxe94cvsimBrSn4pU/rESYj5jCSEcLSOTZIYo0n9TpwmDqeoL3FNfTbz7Ipq8zJx4ZLJyfivNezmCIc8K8XJNMFg6NEOCFYa9nivPSV3dQ/2UqT+4TTfj5+6R67hK4hLvmjlaW0t6haBpo8d2UnOq1nmCc1A4x6fPKHPNqaU00TekVIhxxG7sE/HxNqofvPThRXENwRAFEMm7Md9NDMXNqWW0PDu1jZ+rXSXhYu5LGg3EnXjI6jRy5MoghroAx0uYTzhxF+ISxc5wyMok9v607pedV0zet7KZ+t0etGx9IL13Si2Vsr6K6PM6mipo5+fVYi/ZEFD+zgyuH5OQVyrv7JIVxphko8+/rMSm451NHU/pH0O84nQvlQpgjZe+BLLsNSJ//NrQcuw7m/7cOtGqNj7+rX9tC3m8slrhruk7dv7sr5ipS0THAsQje/2VQuHYOdY4KkpYJKzZ9bPrdOiKNbxsdJhZdT5qIv19n4/gTQtAEoQ4ziNCpTpRXwc3ws46xVrE8xzNvd/IU01vtJFMBKbr6n59VInHBkiL8MfW5NGCDimTFCD6FyNbVEKZGBLIqh0jkF14U3SA7Cgl/qy2HLHW6UQWnBIjBWizmoRj5aBMfDEsfoQohtjYsFLDyARrIID0i1isC2JDo4bsluOwsmwvnqJSwRbgt0pCIuvPkhnuI6bF5MvPfDeoj9lpwqWrXPQUVcQcJi7RprketEjHdL5z1cmge7hyYYaYqKaRlXfvYat1RkGLwzvLNVKsOmeTQzr5b0EcNlp2KtHFfwRBhNaAP4XFv7Ijce6zmGvx7sWLOCwH/4fiTpmLQlr2ay5qPflnSPhLbk8Wg5HmmecnAhH0uxVp+1cgB4qdHsNpcjeckbj4VAGH8fDFiG2I5djjQdExwjx/L31p4D+5j7tzXdIwHnP9I8Hi1mmsfqGpWOR8VaOSnwBT+rL+RROXFRsVYURfEBVKwVRVF8ABVrRVEUH0DFWlEUxQdQsVYURfEBVKwVRVF8ABVrRVEUH0DFWlEUxQdQsVYURfEBVKwVRVF8ABVrRVEUH0DFWlEUxQdQsVYURfEBVKwVRVF8ABVrRVEUH0DFWlEUxQdQsVYURfEBVKwVRVF8ABVrRVEUH0DFWlEUxQdQsVYURfEBVKwVRVF8ABVrRVEUH0DFWlEUxQdQsVYURfEBVKwVRVF8ABVrRVEUH0DFWlEUxQdQsVYURfEBVKwVRVF8ABVrRVEUH0DFWlEUxQdQsVYURfEBVKwVRVF8ABVrRVEUH0DFWlEUxQdQsVYURWkjfp7PY4GKtaIoShupcziILBaiwEDPmo5DxVpRFKWN1FdWkn9QEPlBsDsYFWtFUZQ2Ume3kx+LNQS7o1GxPo643W5ZjiVI7lin6QsY5eL5Q1FaAz8wdYWF5G+1kl9IiGdlx6FifZyoq3dTaVU97Sp0UpG9tsMFFKcvraql7fnVVFxZ51mrgIrqOtpRUEP55a4Ovw/KyQOs6pp9+ygwJYUCY2I8azsOFetDgBe3lkU1v7yWtuRU0y5+oZ217fMy22vq6f0VJXT28zvplfmF5Opg/XTWuemTVaU0+dmd9O+5hZ61CrR51tYKGv/UdvrL17l0qLuLCragopY2ZTtob1ENVdZopXfKwg9Ozc6dVFtQQCH9+lFAbKxnQ8ehYn0Q6vlmwAJdsaeSnvg+j855YRfd9v5+KrTD+vLsdBSUVdXRTrZys0pdtDW3ms9b69nS/piVzoq9VWRz1NKinRXtcg2+DsoF/1bsraQqVz3NSS8/ZLlUVNfTe8uK6azndtIdH+ynmRvLaX+Js90qcMV3cNfVUeWKFWJdh/TvT4FRUZ4tHYeKdTPwAkNI1+2vopfZ4r313Qx6dWEhW8J1FBzoR/5+B0ZW4gXHAoGX7+Y6z6c3sp4XWLpVznrZB0LqrK2X483F2K/ZwYyxvqWF/9cCsp7zXMvp5dpcVF9PbMVDopof79m3BWQbfzbNm7HNG3N9k6X5evztWXcwmuzvtbQE1kuePN8bliZ/468W4HLBppwyl1jNuCfYs8l18t/m8fKdlyB+DubtsNPdH2fSX6bn0E/bKuQcKNf2RNJlUagt5JYQfyonDq7sbLLPn08hffpQSN++RAEBni0dhx8/EO37hPkwlTX1lMGW0k9sYX2wopQ2ZDlYnIm6xQfRxJ7hdNcZCTQwLYQCsdJDNVtkGSUuKqxwUQ1bWHjJLbw9LNi4edD2oZ2sZAkwjoF1tj3fIW6Vj1eW0Ox0O03oGUq3T06gpEgL3lA5KDiQqE9SCCVFBPKfxrE2R524ZOB7Rrqm6wSVSHx4IHWNCyKrxV/SNKnhSmBNhoOKuEXw2Ld5tD7TQf2SQ+i5q9JkO86N3XEOHN8ltmmvNiqUrFKnNP9xfSCE90VeU6MtFBpk1PcllbW0s6CGyjmPOGdESADnr17yGcTXnsj749pR6aHiiLQGUF/ORzR/eoP9c2y1lMcVi4O/ozisnEZsaAClxVgoks9r4uC87S2uEaF081VEhfhLuVfyent1nQgr8teVrymBy9G8BwDCupHvbylXzE/9kEcLWHyjOI2PftGtoUxwfCBfXmc+vic/A/gbaX20soxmbCjl+1hDpXzdaTFBdPnwaLp4aBQNSrVSHN8Lr0ekTcByq83NpeodO8i1fz/FXHMN+Vmtnq3K8aSuspJK3n6bSt59l+LvvJNir7vumNybU16scflOFr1MFumlu+308apS/qwUkevEL+GorqH0s7ExdEafCApnITCFEKUG4fl2Uzl9srqUVu+rZEGsE7GO4P1Solh4/dwUxmLx2e09RAgBKoDffJZFS3bZxaLmnWQ9zuv9gkMIn7osja4ZFSPbkN6nq0voi7U2cZsUcOWAjjEcHxsWQCORzzGxdOGQKE6TxcaT0UIWWTTbt+VVN1igkCKkZV4LPjvztf5maqJUSACWZi6L5rzt5fT1ehut2FdFxSxMOEFiZCCN6x4m4oRySWQhXMTX8/vPs2ljtkPS6REfLEKPztOIYH+a0CuC9hTWiLhWu9zUncUPaf1yYrwIKnKGDte5XFHO2FhOi3dVSAWBfMSFBdLwLqF00ZBImjYgirpxWSL/8Bs/PSuf3ltWQi7er1dCsGyDawKVbj2vg5BeMjSafn5arFQOpmCXcYV33Zv7RKRxr1Eu+F8Ab/cUi4DK4VeT4+nvl6Q23AcnV0IQavQBzNpSTrsLq7nicHPlGkxXjoihcwZGNlREZhm3CtwfbvrAaqveto0qvv2WSr/+mtIef5yiIQj+2hA+3rirq6li3jzKf/ZZCurShZIeeEB81seCgEcYz/dTDlhX2WwpLeQX9rVFRfTK/CLawkIYHx5Ak3qH0+2TEuj+aUk0rHMoW55NLVbw9QYb3cVN4XQWwp4sFEM6hYjVGsLWbRafd1+xk5vM/nRm3wixWHE8rMFiFjBrUIA0u+FygaCM7xlGg9JC5SXHMijNShN7hTccBzH7dHUZrdxbKZZqZ7YyB/P+PTwWH/zRy/ZU0vgeYVzJBDcIPyqEfSyQsGxhRVaxqEDczx4QyXm1Slr9eRmYEiIC3JuteQhSZqmLXl1QRM/8WCCVQzIL9NDOVql00AJZyelB6AI5L335GORR/PBsXcOyRSugR3wIDWBLc3eRkzbnONj6ruOWiVWubXVGFS3na5nWP1IsZpujnt5dVkx/nZHLLYEqsYTRIkF+cJ/WZVbRwp2V0qk3IDWEoqyBLNCw6OtYmGukUkLFgLwlc0U5MMUqFjFaIgt22rkk/OQ+oiJFXllv+RqdFM3WNFoDsPpDuNK4cHBUQ7n0TQ6m/igXLtMhnGcchwUtK7QsTuP1g7mlFeDnLxXnHr7OxVzRb+C8sv5LRY0KHm6Tw2GKdNWKFWKx5T39NFXMnUtBPXpQymOPUUBoqGdP5XhRW1pKlYsWUdFrr8mDkHD33RQ2fDhbWcemEj1lLWsI5pr9VWIZf7PRJi98dKghEOcPimJrLEqEybvp7A0K7aKX9rBlZRMhfPm6NJrE1mMYW5Gwnv+3ppTeWFQs53jvlm4sFEYzCaUN4UVkyZPf59F7y0voMm5CP3N5WoP1DUQY8M+TPI7blucQQYCrA+LZhfdnLRbh/NWH+ymDK4e/XZwiFjIqDPM45BVictVre9lSrqCxLDIL7u+DrbIPMJv+SA/7friylB6ZmSvfT0fFxdYlKg+I/0/pFfTfJcXSMYcWxNOc9wtY5AIDiM59YRenYRfxf/zSVLaIrTThmR0ijHARwP0ygIW0y4ObxcXwjys7caUYRz9urZD+AaQ3gq3oX5+VyFZ7uLhAUJkivR+3louI/2ZKIt1xerxcIyzv5+YU0N+/y6MotoJvGBtLV4yIFisXlQYq4DcXF0nl9eWdPWk0t0BwjWa5wPq++Z0MuV9wJWU8OahJC8e7XFoC54Fbaj6X6xfrbNwisIsBgNYEKny4R87oGy4tlwDvEzN49fgFJCeLtGPzZqqYPZvKpk8nV1aW+Kj9goOp88svU+wNNxyTEXJKM3BzmXqE6O3dSxXz55ONWzoYBJNw110UMWWKxFgfK07ZdlUJW4E/bC6nL9aWSpMZlhaareewxXklv+xoph9MqAFetNQo+JNhpdWz5VhNc7ZV0FwWKtxjNL1v4qb39aNjxOo2wf7opMSC77LwelTOeJnNxdxugu89E0LEjw3B3JhdTV+uLaOvWCDgnoC1jd3hSoCAm5jnlwX/Y4nCB3SjaXrmdpIWwWwWRvjhYTXfcXoCXTosWsQsmSumq0fF0G2T4rmMgrnyqKGftpVLjDJyIOn5uWlK/wiuFEIpNTrI8PFznqayFT2BBR9uFCMpPwlhhAvhoxUl4veGGN9zZqK4f2AhR/E9OW9wJN07JYFbLlbxGc9n8d5f4jLOwCeSsuLvsIIvGRYlLiH4zJMiLNJiQUupsKJO/OGehI188qc/583Is3mug5dLS2BbbFggnTMwiq4eGUPd4ox7XcbW+lx+HlAJ7C6saXJPBH5IXDk5ZJs1i/Kfe46yfv1rKnzxRXKyKLhdRry3ddgwijr/fPI7Br87oTBc5ih7iLMrL8+oQOfMoaK336bcv/2NSt5/n4K5pZP8l79Q5NlnH1OhBqesZY1wKzTNv2PBRm8+OpsgHH3ZIjt/EHyjkWLhQSzwwjYHpbZkt13C+tZlchOfLXX4XmFld4q2eNwiVprM1uFgtiibv/CwrJ/4PtewrFkI/3FlWsOL3hKwOBfsqKDp623i7oD1hg44WIbhLExVnHeI+P3TkumRi5IbOv4A8iqW9et7WUDKuVkfTgt/1+egIoTyuPfTLNrK5QPhg6UKv7EJHpgCFufP1pRJGY7tFkYvXNuZRnDr4bwXYVlX0O/PThIXEoSs91+2iH/5D+cm08MXJJMl0I+sd60XMXzowhS6bWIcTX52B+3IrxZxv4+FGWLrnT1USLC+4XoZlBrC15giLRL4x/81p5D+9m0uje0eRo9xywKfANcNa/wPX2bztXBl+ptefD8iGs6L7biWm97e12BZ72fLGvlqDTi+urZe7uWinXaayS20pXxv4LaB73wSV0wXDYmSFgncLeZBrtxccmzYQOVz51L5t9+Sc88eqnc6jROa8M1JZOst+qqrxKqGhY9XFYv0R3j2lb89n03WHWQf88qaHGesaPrpQbZ7r/P8jfPXs5Fi5kvOy58N5zX39f70AJePSUN+zHNhm1feBXz3+vugefZ8Sh688mWe28yvZ6fG4wB/d9fWUn1VlXQg1hYVkSszU+Ko+UAK6tqVwiZMEJHGd8njMeaU72BEJ9ja/VX0zcZytozLKT23WprWI7qE0YVs0Z3ZL0JcI97iZ4JOu41ZVbS/tJb2sRjl2FziUy3DyMQCPg+XLNwpf2VBQueXN0ci1oie+GaTTTrT4A/tEhssflv4TZ0s2GiGL9hZKZ1m7SHWELh7PskS//PhHg88/D0TguiNG7uyKIXRef8+crH+5cRYOu2pHdL5eLinEel1jgmkB/lcsPiPl1ijYkSn9EIWaTw7uGbEsKP/ASINtxDcH2iJNMAJOtmaLvv8c/FLV2/dSvU1NZ6NzeDrDBs3jgI88bvIkVk0jflvWlimOB0A9sPNbmH/JjT72zvNgx2LfUxhbAL/jTXe+Wk4xrN/i9vk/41/t0gL25qfzxvvc2Ef2bdZnhvWcysGQ8f9w8PJkpREwd27U8iAARQ6YgRZUlOReeOA48ApL9YAJYAmOKyi7zfbaP52OwuHU1wLY7sjCsHwO8IlYHYWIWb5wa+yRdj/eVUn6UiCtYvOKgxwgaWFOG2c4w/nGMLlfZ/hPkDI2FtLINZRB4g1boo8PPwPLob7P8+iL9fZqH9yMN02KYGm9DM6HxFOh4rh5rczaBtbpr+FWF+Y3CSED+dBq+Em3udbFn2ImbdYN38C4Mv/8/QcGSTSKzHYsAzNEDscxAfgEMP5QBKqdvXIaLEmz3txt0esE1sWa84b3EveYn3n6fF041v7pOzjwy0SZYLQPuP6jbLwJoat1Cn9IsXFwcVPz83OF5+1Idapcs8ArmvWVhv94YtsSs+roTn39aZJvcPEbWJsN67jzg+z6J2lRRQfYWGxHtgg1g3l4pUJpIf7gcih2ekVXEYV4o+H0I/hFgYiQaYNiKCe8ca99L7nOKEzI0N8n4jRrViyRMLyyOP2aAIfGH3JJRLD6w4wWhlmNIibt4nYyG6eBPCJc3h3dnn2a9iXt0mZ4tPYw9jH8ymL13f8ZR7XgPc++DC3NTvW+Np0X8m3528zT+Y281OOab7Ok9+G8zFNrgXXzduwXc5r7uf12XBss8+G82AftGBCQ8mfl4DoaLIkJ1NARMQBxxwvVKybAZ8orKXvRLQrJHwNTdjJvcPFHQBfNKxW7HPhS7skuuOvF6TQlR6xQpRHrs0p0Rl3fJgpg11uGR/Pgp7WxJ2SXeZki7CAnv+pkM7qGyEW4ahuoXI+RDDsZAHeXegUsYQ4/fXrXLH8r+Cm/184PbhrEAmB/ZbsrqSX5xVSHovItaPj6NYJsTQkLYQSWHxM0IKAAL/EFQg6/6b/X08We4ukl8vp7WYrGuklRwWK++aTlaX0TxZB+O5vnxTPLYxIce+gAxVWOuKL7U63VE4QZESYYDTm7R/sl5bKdaNjRITRQhn46FbaW1hD14+JpftZxNHRGHr3enn2b50QR//HFvLKfZX02/9li9vp/mmJ0neA0MmIEH+pkOA/N+K066X8u8bxi8XXhRh3DNd/d1kJDeDrQpgdIl2SIgNlBCr6JFDO8MO/cHUnunR4FFu76OwzygWW+dM/5NPfWOwRP770gb5SKeO+oVzQabslxyEdneeyEKOSfp9bQ7O5ItvOFUA45w+dlnCbTeVWGCJdDtXXIXCazn37yL5oEZXPmycRBk4WbfhLG+DCSfj1ryntiSdEPBTllA7dawn4SgeymMAv2pUtXVhZCGPDYBKI0cXDomUfdEp+vKpEwu82ZFfLS70hyxBODEOesb5M9kG88S9YkMzwNpMA/gOhZhCpQnuduFAQRfLTNsP3+cW6MvpyrU1EZXTXMLHW4XZB+B32hfULS/TL9WbcNQat1JONt2/iJj/8pmPY0vROE6L3wxY01/kcXClt4GuajfQ2cHosal9xmuUsxLAOIZRFLHYIsdvI14W0IcLwl/+wpZzTLmertZx+ZMsSHWgICYQPezlvhy8doXgQtolsyb7NrQf8Xc5iC9fKZcNj6Mnvc0WQ4DJCJYPWAtw4azOrZBDPLj6nmR46MBG1g9/wgN8ariq4gGx8vtcXFdFsXgefNiqkfVzmiDJB5yf6Iz5YUSIRNCgPDLTBvUOkiBktw5mQMsK+CD00fwcGnYO4D+gj+GxNKe3Ir6EJbMnj/jz/U4F0ICIU8GdjYiRWHK0vhAq2xoWCBANiYihk8GAKHTaMgnv2FHdHfUWFLBBzUJuZKREHsPCa3EjllETFugXwXqBpj7hpxAmnRhkWZf8UK53ZN5wtuwC2njCQxiXWXFJUEIuUXULW5u8wxASvG/yjN58WSxcMjqTgBnEwgPUFix1pwepD/DTcB2v2O0TkEA+MZv75g43ohq5sBcMpAPfJkl2VsqASgeV782lxMgIxLtwiVjgEA/Heo9lSN5v8+IwLD5Col+yyWlrG6UF4MJgnl8USbhwI63ks1AgzhFhD8BBfnsdW7ap9Dlqws0KucR3nEfmAZY98QvxS2Orew5Y5RBDHwdpGGU7pHylCn8B5wzpYyogsQcsDbhyUAVwIV42MkZA+a5CfnBeVBEL2UCbL91RJhYDKDW6lXokh0o/AMisVJIQYFSuiR0I5feQHkSFoKaCCRdpwMVktfhLnjRhsU6zlXnO+oLH5XOGt3Fclfu5lnCYG12A7Qh0vGGTcB1SGqPRgvaNVgBYVInTgHvMUdatB0xu/1mYdMkSW4F69DNEuK6O68nJDuHkfdGppRIiibpDDgOKB1QjrDEKTxqIEoUWpbc11iDBiIAYG08AyQ8eTCCcLQL/k4IZBMi0B/2dOmVOiSTCkGy4JC4tjJKeDjikIMUQTzX6kBz86frMEYo504EeGywIiB4sVLgLzdkKwkAdvAUGTH6MsYa3CsoYFDCsUA0wSIwLE5dIpOkjyi+Pgj4eliYgPhMphxCbWYaAPfOIoD1RkEM9QFlmIG1wVJqg4eiQE0+ZshwicuQ55gygiq0gH4Xrw8WIPWP3r2brey+UNdwvrsLQuIMKoUODewDmRLkQa/mKIuwn2xT2C5Y316EeQkD0GacFVlcCVAwbzmCAfFVx2GFWKa0B8NsQboxdR4fRKCBKxR7mgMxfnxKhN3CPv8j1aZGDM/v1UuXKl+LRtP/xA9Q4H9frmG+ngatfEFJ9DxVpRTkDQEYlfdbMvXChukKQHHyS/Y/BjQcqJi4q1opyI8GuJVxOjGdEZGTpu3DGZOko5cVGxVhQfAL/Cp5b1qY2KtaIoig/Qcs+XoiiKckKhYq0oiuIDqFgriqL4ACrWiqIoPoCKtaIoig+gYq0oiuIDqFgriqL4ACrWiqIoPoCKtaIoig+gYq0oinLCQ/T/jIHcRgNvkT8AAAAASUVORK5CYII=)\n",
        "\n",
        "O comando **break** pode ser usado para encerrar o laço.\n",
        "\n",
        "Já o comando **continue** encerra a iteração atual.\n",
        "\n",
        "Observe os exemplos abaixo:"
      ],
      "metadata": {
        "id": "jJAG1kft2Fqq"
      }
    },
    {
      "cell_type": "code",
      "source": [
        "n = 0\n",
        "while n < 8:   #a variavel n deveria chegar até 7, mas...\n",
        "  n = n + 1  \n",
        "  if n == 3:   #quando chega a 3, o loop é quebrado. O programa continua na primeira linha apos o fim do loop\n",
        "    break\n",
        "  print(n)\n",
        "print('fim do Loop.')"
      ],
      "metadata": {
        "id": "2NUsQvIHlKz_"
      },
      "execution_count": null,
      "outputs": []
    },
    {
      "cell_type": "code",
      "source": [
        "n = 0\n",
        "while n < 8:  \n",
        "  n = n + 1 \n",
        "  if n == 3:   #quando chega a 3, pulamos para a proxima iteracao do loop, sem executar o print da iteração atual\n",
        "    continue\n",
        "  print(n)  \n",
        "print('fim do Loop.')"
      ],
      "metadata": {
        "id": "3cFGo3E62svD"
      },
      "execution_count": null,
      "outputs": []
    },
    {
      "cell_type": "markdown",
      "source": [
        "## Cuidado com laços infinitos!\n",
        "\n",
        "O trecho exemplificado executa indefinidamente, é importante lembrar que o laço deve ter uma condição de saida prevista. "
      ],
      "metadata": {
        "id": "5rZacGDW8EmS"
      }
    },
    {
      "cell_type": "code",
      "source": [
        "i = 1\n",
        "while i <= 10:\n",
        "  print(i)"
      ],
      "metadata": {
        "id": "KYG2H8kF8ECw"
      },
      "execution_count": null,
      "outputs": []
    },
    {
      "cell_type": "markdown",
      "source": [
        "\n",
        "##WHILE - Repetição com contador\n",
        "\n",
        "São repetições onde o bloco de comandos deve ser executado um número pré-definido de vezes. \n",
        "\n",
        "Este número de iterações pode ser fixo, determinado pelo enunciado do próprio problema, ou pode ser deixado em aberto, para que o usuário defina-o no início da execução do programa."
      ],
      "metadata": {
        "id": "CrW2lg4BJFwd"
      }
    },
    {
      "cell_type": "code",
      "source": [
        "#número fixo de iterações, definido no código-fonte do programa: \n",
        "\n",
        "i = 1    \n",
        "while i <= 7:    #repete sempre 7 vezes\n",
        "  print(i)\n",
        "  i = i + 1 #incremento do contador"
      ],
      "metadata": {
        "id": "qE5tWX52JMPE"
      },
      "execution_count": null,
      "outputs": []
    },
    {
      "cell_type": "code",
      "source": [
        "#número variável de iterações, definido pelo usuário antes do início do while:\n",
        "\n",
        "limite = int(input(\"Quantas vezes a repetição deve ocorrer? \"))\n",
        "i = 1     \n",
        "while i <= limite:    #repete até o limite definido pelo usuário\n",
        "  print(i)\n",
        "  i = i + 1"
      ],
      "metadata": {
        "id": "otd28hJiNMqr"
      },
      "execution_count": null,
      "outputs": []
    },
    {
      "cell_type": "markdown",
      "metadata": {
        "id": "cx9verdMNwFG"
      },
      "source": [
        "###Atividades\n",
        "\n",
        "**AT1** - Escreva um programa que utilize o comando while para ler 10 valores e contar quantos destes valores são negativos. Apresentar esta informação ao final do programa.\n",
        "\n",
        "Exemplo de entrada:\n",
        "\n",
        "5, -6, -1, 0, 90, -45, 10, -8, 23, 11\n",
        "\n",
        "Saída: Foram digitados 4 valores negativos"
      ]
    },
    {
      "cell_type": "code",
      "metadata": {
        "id": "xJKI0TxDNoFG"
      },
      "source": [],
      "execution_count": null,
      "outputs": []
    },
    {
      "cell_type": "markdown",
      "metadata": {
        "id": "GNzU9DYSOgTe"
      },
      "source": [
        "**AT2** - Repita o exercício anterior, porém, ao invés de 10 devem ser lidos N valores. N será fornecido pelo usuário no início do programa.\n",
        "\n",
        "Exemplo de entrada:\n",
        "\n",
        "Quantos valores serão digitados?  3\n",
        "\n",
        "-1\n",
        "\n",
        "5\n",
        "\n",
        "-9\n",
        "\n",
        "Saída: Foram digitados 2 valores negativos"
      ]
    },
    {
      "cell_type": "code",
      "metadata": {
        "id": "fwEFaqepPBn0"
      },
      "source": [],
      "execution_count": null,
      "outputs": []
    },
    {
      "cell_type": "markdown",
      "metadata": {
        "id": "UJoG8Rd6PQd0"
      },
      "source": [
        "**AT3** - Faça um algoritmo que leia um valor inteiro fornecido pelo usuário e, usando while, calcule a soma de seus 10 sucessores. A soma deve ser exibida ao final do programa.\n",
        "\n",
        "Exemplo de entrada: 11\n",
        "\n",
        "Saída: 165"
      ]
    },
    {
      "cell_type": "code",
      "metadata": {
        "id": "FcVZDl__Pw5M"
      },
      "source": [],
      "execution_count": null,
      "outputs": []
    },
    {
      "cell_type": "markdown",
      "source": [
        "**AT4** - Repita o exercício anterior, porém, pergunte também ao usuário quantos sucessores ele deseja somar.\n",
        "\n",
        "Exemplo de entrada: \n",
        "\n",
        "Qual o valor inicial? 4\n",
        "\n",
        "Quantos sucessores você deseja somar? 5\n",
        "\n",
        "Saída: 35"
      ],
      "metadata": {
        "id": "WJ9NrHBZRSHl"
      }
    },
    {
      "cell_type": "code",
      "source": [],
      "metadata": {
        "id": "QNICD-D2Rckk"
      },
      "execution_count": null,
      "outputs": []
    },
    {
      "cell_type": "markdown",
      "source": [
        "**AT5** - Em um parque, uma árvore da espécie A tem 1,50m e cresce 2 cm por ano. Já uma árvore da espécie B tem 1,10m  e  cresce  3 cm  por  ano.  Faça  um  programa  que calcule quantos anos serão necessários para que a árvore B atinja a altura  da árvore A."
      ],
      "metadata": {
        "id": "HG6UxDJGYORQ"
      }
    },
    {
      "cell_type": "code",
      "source": [],
      "metadata": {
        "id": "TYkG6ah-Y3Tu"
      },
      "execution_count": null,
      "outputs": []
    },
    {
      "cell_type": "markdown",
      "source": [
        "**AT6** - Faça uma repetição de 0 a 100. Cada valor do contador deve ser impresso, exceto os múltiplos de 5; quando um múltiplo de 5 ocorrer, o laço de repetição deve avançar para a próxima iteração."
      ],
      "metadata": {
        "id": "BqqU8rCtcd7N"
      }
    },
    {
      "cell_type": "code",
      "source": [],
      "metadata": {
        "id": "QoGSUVM9c3u9"
      },
      "execution_count": null,
      "outputs": []
    },
    {
      "cell_type": "markdown",
      "source": [
        "##WHILE - Repetição com sentinela\n",
        "\n",
        "Sentinela é um valor que indica o final de uma sequência de dados. Enquanto este valor da sequência não for atingido, repete-se o bloco de comandos. \n",
        "\n",
        "Assim, a quantidade de iterações fica dependente de uma condição envolvendo o valor sentinela. Ou seja, não se conhece, antecipadamente, quando irá surgir o valor sentinela na sequência de dados de entrada. "
      ],
      "metadata": {
        "id": "Y8wJSULiJuK7"
      }
    },
    {
      "cell_type": "code",
      "source": [
        "# usando o valor -1 como sentinela:\n",
        "\n",
        "valor = 1 # inicializa com um valor qualquer, apenas para criar a variável\n",
        "while valor != -1:\n",
        "  valor = int(input(\"Digite um valor ou (-1) para encerrar: \"))\n",
        "  print(\"Você digitou\",valor)"
      ],
      "metadata": {
        "id": "cKZokfe6J3Gj"
      },
      "execution_count": null,
      "outputs": []
    },
    {
      "cell_type": "markdown",
      "source": [
        "No interior do bloco de comandos do `while`, é possível usar uma estrutura de decisão para distinguir quando o valor é ou não o sentinela e, assim, tratar cada caso de uma forma diferente:"
      ],
      "metadata": {
        "id": "ioIehbEqUlYc"
      }
    },
    {
      "cell_type": "code",
      "source": [
        "# usando o valor -1 como sentinela:\n",
        "\n",
        "valor = 1 # inicializa com um valor qualquer, apenas para criar a variável\n",
        "cont = 0  # para contar o número de valores digitados\n",
        "while valor != -1:\n",
        "  valor = int(input(\"Digite um valor positivo ou (-1) para encerrar: \"))\n",
        "  if valor == -1:\n",
        "    print(\"O programa será encerrado\")\n",
        "  else:\n",
        "    print(\"Você digitou\",valor)  \n",
        "    cont = cont + 1\n",
        "print(\"Foram digitados\",cont, \"valores válidos\")      "
      ],
      "metadata": {
        "id": "gXoC2b6dUnNv"
      },
      "execution_count": null,
      "outputs": []
    },
    {
      "cell_type": "markdown",
      "source": [
        "Outra forma de trabalhar com sentinela é criar um `loop infinito`, que será quebrado (`break`) quando o valor sentinela for obtido:"
      ],
      "metadata": {
        "id": "TLrEYXXpWYk8"
      }
    },
    {
      "cell_type": "code",
      "source": [
        "while True:\n",
        "  valor = int(input(\"Digite um valor ou (-1) para encerrar: \"))\n",
        "  print(\"Você digitou\",valor)\n",
        "  if valor == -1:\n",
        "    print(\"O programa será encerrado\")\n",
        "    break"
      ],
      "metadata": {
        "id": "uIL9aJf6OWYE"
      },
      "execution_count": null,
      "outputs": []
    },
    {
      "cell_type": "markdown",
      "source": [
        "O sentinela também pode ser uma faixa de valores, como por exemplo, qualquer número negativo:"
      ],
      "metadata": {
        "id": "NMyM-fCvxlaE"
      }
    },
    {
      "cell_type": "code",
      "source": [
        "while True:\n",
        "  valor = int(input(\"Digite um valor positivo para prosseguir ou um valor negativo para encerrar: \"))\n",
        "  print(\"Você digitou\",valor)\n",
        "  if valor < 0:\n",
        "    print(\"Você digitou um valor negativo. O programa será encerrado\")\n",
        "    break"
      ],
      "metadata": {
        "id": "SEeMGHJTxshi"
      },
      "execution_count": null,
      "outputs": []
    },
    {
      "cell_type": "markdown",
      "metadata": {
        "id": "q6a-ioWAP0d1"
      },
      "source": [
        "###Atividades\n",
        "\n",
        "**AT7** - Faça um programa que leia N números (um por vez) enquanto o usuário digitar um valor diferente de zero. Após, imprima na tela qual foi o maior número digitado.\n",
        "\n",
        "Exemplo de entrada:\n",
        "\n",
        "5\n",
        "\n",
        "9\n",
        "\n",
        "29\n",
        "\n",
        "4\n",
        "\n",
        "0\n",
        "\n",
        "Saida: O maior valor é: 29"
      ]
    },
    {
      "cell_type": "code",
      "metadata": {
        "id": "Kho9syfhQVoN"
      },
      "source": [],
      "execution_count": null,
      "outputs": []
    },
    {
      "cell_type": "markdown",
      "source": [
        "**AT8** - Faça um código que leia indefinidamente um valor informado pelo usuário e calcule os impostos em 10% do valor informado. O código só irá finalizar quando o usuário digitar o valor -1. Fazer usando o comando break."
      ],
      "metadata": {
        "id": "vGzzW9WEW-Qd"
      }
    },
    {
      "cell_type": "code",
      "source": [],
      "metadata": {
        "id": "g0SOv_HVXRFA"
      },
      "execution_count": null,
      "outputs": []
    },
    {
      "cell_type": "markdown",
      "source": [
        "**AT9** - Faça um programa que leia um conjunto de notas de alunos e, ao final, mostre a média geral da turma. A entrada será finalizada quando for lida a nota 999."
      ],
      "metadata": {
        "id": "yF24wOdRfHHi"
      }
    },
    {
      "cell_type": "code",
      "source": [],
      "metadata": {
        "id": "1Ka_H1U-fUmz"
      },
      "execution_count": null,
      "outputs": []
    },
    {
      "cell_type": "markdown",
      "source": [
        "**AT10** - O comando while também pode ser utilizado para validar uma entrada de dados, isto é, caso o usuário digite um valor fora do intervalo esperado, o programa continua solicitando a digitação do valor até que um valor válido seja informado.\n",
        "\n",
        "Faça um programa que leia a idade de uma pessoa e a classifique em menor ou maior de idade. Antes de passar para a classificação, deve ser verificado se a idade está no intervalo entre 0 e 120. Em caso negativo, o programa deve repetir o input até que um valor dentro deste intervalo seja digitado."
      ],
      "metadata": {
        "id": "x_XcQ4_UdFOX"
      }
    },
    {
      "cell_type": "code",
      "source": [],
      "metadata": {
        "id": "ooEA7cRoeRF1"
      },
      "execution_count": null,
      "outputs": []
    },
    {
      "cell_type": "markdown",
      "source": [
        "#Repetições encadeadas\n",
        "\n",
        "![](https://drive.google.com/uc?export=view&id=1IdNQ97W5KO5nVZSYx4QU6klRdP_L5Ut6)\n",
        "\n",
        "A estrutura de repetição While pode ser encadeada, ou seja, podemos ter uma repetição aninhada dentro de outra repetição.\n",
        "\n",
        "Quando isso ocorre, para toda iteração do laço de repetição mais externo, são executadas todas as repetições do laço mais interno. Veja os exemplos abaixo:"
      ],
      "metadata": {
        "id": "xJZ8bDysmmum"
      }
    },
    {
      "cell_type": "code",
      "metadata": {
        "id": "skz7Nc-GMF8L"
      },
      "source": [
        "i = 0\n",
        "while(i < 4):\n",
        "  print(\"i está valendo:\", i)\n",
        "  j = 0\n",
        "  while(j < 5):\n",
        "    print(\"\\tj está valendo:\",j) # \\t = tabulação\n",
        "    j += 1\n",
        "  i += 1\n",
        "print(\"fim do programa\")  "
      ],
      "execution_count": null,
      "outputs": []
    },
    {
      "cell_type": "markdown",
      "source": [
        "Vamos desenhar um quadrado de asteriscos usando while:"
      ],
      "metadata": {
        "id": "ofZTYn1DpShS"
      }
    },
    {
      "cell_type": "code",
      "source": [
        "lin = 1\n",
        "while lin <= 10:\n",
        "  col = 1\n",
        "  while col <= 10:\n",
        "    print(\"*\", end=' ')  # o parâmetro end indica o finalizador de linha\n",
        "    col += 1\n",
        "  print()  \n",
        "  lin += 1  "
      ],
      "metadata": {
        "id": "Vdl3WEbmm7Aa"
      },
      "execution_count": null,
      "outputs": []
    }
  ]
}